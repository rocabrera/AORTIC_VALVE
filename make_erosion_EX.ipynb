{
 "cells": [
  {
   "cell_type": "code",
   "execution_count": 1,
   "metadata": {
    "ExecuteTime": {
     "end_time": "2020-11-23T06:18:16.659054Z",
     "start_time": "2020-11-23T06:18:07.263854Z"
    }
   },
   "outputs": [],
   "source": [
    "import matplotlib.pyplot as plt\n",
    "import numpy as np\n",
    "import cv2 as cv\n",
    "import seaborn as sns\n",
    "import os"
   ]
  },
  {
   "cell_type": "code",
   "execution_count": 2,
   "metadata": {
    "ExecuteTime": {
     "end_time": "2020-11-23T06:18:16.725877Z",
     "start_time": "2020-11-23T06:18:16.716899Z"
    }
   },
   "outputs": [],
   "source": [
    "def makeImage(x, color, file_name, figsize = (10,5)):\n",
    "    fig  = plt.figure(figsize = figsize)\n",
    "    ax = sns.heatmap(x, annot=True, cmap=color, cbar=False,annot_kws={\"weight\": \"bold\"})\n",
    "    bottom, top = ax.get_ylim()\n",
    "    ax.set_ylim(bottom + 0.5, top - 0.5)\n",
    "    ax.set_xticks([])\n",
    "    ax.set_yticks([])\n",
    "    plt.tight_layout()\n",
    "    plt.savefig('images' + os.sep + 'erosion_example' + os.sep + f'{file_name}.png',format = 'png')\n",
    "    plt.show()"
   ]
  },
  {
   "cell_type": "code",
   "execution_count": 3,
   "metadata": {
    "ExecuteTime": {
     "end_time": "2020-11-23T06:18:16.803389Z",
     "start_time": "2020-11-23T06:18:16.790424Z"
    }
   },
   "outputs": [],
   "source": [
    "I = np.uint8(np.array([\n",
    "\n",
    "                 [1  ,   0  ,   0  ,   0  ,   0  ,   0  ,   0  ,   0  ,   0  ,   0  ,   0  ,   0  ,   0  ,   1  ,   1],\n",
    "                 [0  ,   1  ,   1  ,   1  ,   1  ,   0  ,   0  ,   0  ,   0  ,   0  ,   1  ,   1  ,   1  ,   1  ,   1],\n",
    "                 [0  ,   1  ,   1  ,   1  ,   1  ,   1  ,   1  ,   1  ,   1  ,   1  ,   1  ,   1  ,   1  ,   1  ,   0],\n",
    "                 [0  ,   1  ,   1  ,   1  ,   1  ,   1  ,   1  ,   1  ,   1  ,   1  ,   1  ,   1  ,   1  ,   1  ,   0],\n",
    "                 [0  ,   1  ,   1  ,   1  ,   1  ,   1  ,   1  ,   1  ,   1  ,   1  ,   1  ,   1  ,   1  ,   1  ,   0],\n",
    "                 [0  ,   1  ,   1  ,   1  ,   1  ,   0  ,   0  ,   0  ,   0  ,   0  ,   1  ,   1  ,   1  ,   1  ,   0],\n",
    "                 [0  ,   0  ,   0  ,   0  ,   0  ,   0  ,   0  ,   0  ,   0  ,   0  ,   0  ,   0  ,   0  ,   0  ,   0]\n",
    "                ])\n",
    ")\n",
    "\n",
    "kernel =  np.uint8(np.array([[0,1,0],\n",
    "                    [1,1,1],\n",
    "                    [0,1,0]]))"
   ]
  },
  {
   "cell_type": "code",
   "execution_count": 4,
   "metadata": {
    "ExecuteTime": {
     "end_time": "2020-11-23T06:18:16.852258Z",
     "start_time": "2020-11-23T06:18:16.833308Z"
    }
   },
   "outputs": [],
   "source": [
    "J = cv.erode(I, kernel, iterations=1)\n",
    "J2 = cv.erode(I, kernel, iterations=2)"
   ]
  },
  {
   "cell_type": "code",
   "execution_count": 5,
   "metadata": {
    "ExecuteTime": {
     "end_time": "2020-11-23T06:18:16.870213Z",
     "start_time": "2020-11-23T06:18:16.866222Z"
    }
   },
   "outputs": [],
   "source": [
    "color = 'binary'"
   ]
  },
  {
   "cell_type": "code",
   "execution_count": 6,
   "metadata": {
    "ExecuteTime": {
     "end_time": "2020-11-23T06:18:17.669783Z",
     "start_time": "2020-11-23T06:18:16.910104Z"
    }
   },
   "outputs": [
    {
     "data": {
      "image/png": "[encoded data removed]",
      "text/plain": [
       "<Figure size 288x288 with 1 Axes>"
      ]
     },
     "metadata": {},
     "output_type": "display_data"
    }
   ],
   "source": [
    "makeImage(kernel, color, 'kernel',figsize = (4,4))"
   ]
  },
  {
   "cell_type": "code",
   "execution_count": 7,
   "metadata": {
    "ExecuteTime": {
     "end_time": "2020-11-23T06:18:19.120280Z",
     "start_time": "2020-11-23T06:18:17.683746Z"
    }
   },
   "outputs": [
    {
     "data": {
      "image/png": "[encoded data removed]",
      "text/plain": [
       "<Figure size 720x360 with 1 Axes>"
      ]
     },
     "metadata": {},
     "output_type": "display_data"
    }
   ],
   "source": [
    "makeImage(I,color,'originalImage')"
   ]
  },
  {
   "cell_type": "code",
   "execution_count": 8,
   "metadata": {
    "ExecuteTime": {
     "end_time": "2020-11-23T06:18:20.358026Z",
     "start_time": "2020-11-23T06:18:19.131251Z"
    }
   },
   "outputs": [
    {
     "data": {
      "image/png": "[encoded data removed]",
      "text/plain": [
       "<Figure size 720x360 with 1 Axes>"
      ]
     },
     "metadata": {},
     "output_type": "display_data"
    }
   ],
   "source": [
    "makeImage(J,color,'eroded1')"
   ]
  },
  {
   "cell_type": "code",
   "execution_count": 9,
   "metadata": {
    "ExecuteTime": {
     "end_time": "2020-11-23T06:18:22.207316Z",
     "start_time": "2020-11-23T06:18:20.405897Z"
    }
   },
   "outputs": [
    {
     "data": {
      "image/png": "[encoded data removed]",
      "text/plain": [
       "<Figure size 720x360 with 1 Axes>"
      ]
     },
     "metadata": {},
     "output_type": "display_data"
    }
   ],
   "source": [
    "makeImage(J2,color,'eroded2')"
   ]
  },
  {
   "cell_type": "code",
   "execution_count": null,
   "metadata": {},
   "outputs": [],
   "source": []
  }
 ],
 "metadata": {
  "hide_input": false,
  "kernelspec": {
   "display_name": "Python 3",
   "language": "python",
   "name": "python3"
  },
  "language_info": {
   "codemirror_mode": {
    "name": "ipython",
    "version": 3
   },
   "file_extension": ".py",
   "mimetype": "text/x-python",
   "name": "python",
   "nbconvert_exporter": "python",
   "pygments_lexer": "ipython3",
   "version": "3.7.7"
  },
  "latex_envs": {
   "LaTeX_envs_menu_present": true,
   "autoclose": false,
   "autocomplete": true,
   "bibliofile": "biblio.bib",
   "cite_by": "apalike",
   "current_citInitial": 1,
   "eqLabelWithNumbers": true,
   "eqNumInitial": 1,
   "hotkeys": {
    "equation": "Ctrl-E",
    "itemize": "Ctrl-I"
   },
   "labels_anchors": false,
   "latex_user_defs": false,
   "report_style_numbering": false,
   "user_envs_cfg": false
  },
  "toc": {
   "base_numbering": 1,
   "nav_menu": {},
   "number_sections": true,
   "sideBar": true,
   "skip_h1_title": false,
   "title_cell": "Table of Contents",
   "title_sidebar": "Contents",
   "toc_cell": false,
   "toc_position": {},
   "toc_section_display": true,
   "toc_window_display": false
  },
  "varInspector": {
   "cols": {
    "lenName": 16,
    "lenType": 16,
    "lenVar": 40
   },
   "kernels_config": {
    "python": {
     "delete_cmd_postfix": "",
     "delete_cmd_prefix": "del ",
     "library": "var_list.py",
     "varRefreshCmd": "print(var_dic_list())"
    },
    "r": {
     "delete_cmd_postfix": ") ",
     "delete_cmd_prefix": "rm(",
     "library": "var_list.r",
     "varRefreshCmd": "cat(var_dic_list()) "
    }
   },
   "types_to_exclude": [
    "module",
    "function",
    "builtin_function_or_method",
    "instance",
    "_Feature"
   ],
   "window_display": false
  }
 },
 "nbformat": 4,
 "nbformat_minor": 2
}
