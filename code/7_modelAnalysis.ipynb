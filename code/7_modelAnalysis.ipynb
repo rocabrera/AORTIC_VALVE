{
 "cells": [
  {
   "cell_type": "code",
   "execution_count": 1,
   "metadata": {},
   "outputs": [],
   "source": [
    "import pandas as pd\n",
    "import numpy as np\n",
    "import seaborn as sns\n",
    "sns.set_theme(style=\"ticks\", palette=\"pastel\")\n",
    "import matplotlib.pyplot as plt\n",
    "plt.style.use('ggplot')"
   ]
  },
  {
   "cell_type": "markdown",
   "metadata": {},
   "source": [
    "# Loading data "
   ]
  },
  {
   "cell_type": "code",
   "execution_count": 2,
   "metadata": {},
   "outputs": [],
   "source": [
    "os.chdir('..')"
   ]
  },
  {
   "cell_type": "code",
   "execution_count": 3,
   "metadata": {},
   "outputs": [],
   "source": [
    "data = pd.read_parquet(os.path.join(os.getcwd(), 'data','validationModelData', 'randomTestTrainSplit100.parquet'))"
   ]
  },
  {
   "cell_type": "code",
   "execution_count": 4,
   "metadata": {},
   "outputs": [],
   "source": [
    "best = data.groupby([\"GROUP\",\"FEATURE\",\"MASK\"], as_index = False)\\\n",
    "           .mean()\\\n",
    "           .round(3)\\\n",
    "           .nlargest(16,\"AUC\")\\\n",
    "           .reset_index(drop = True)"
   ]
  },
  {
   "cell_type": "code",
   "execution_count": 5,
   "metadata": {},
   "outputs": [
    {
     "data": {
      "text/plain": [
       "2    0.3750\n",
       "1    0.3125\n",
       "3    0.1875\n",
       "4    0.1250\n",
       "Name: MASK, dtype: float64"
      ]
     },
     "execution_count": 5,
     "metadata": {},
     "output_type": "execute_result"
    }
   ],
   "source": [
    "best[\"MASK\"].value_counts(normalize= True)"
   ]
  },
  {
   "cell_type": "code",
   "execution_count": 6,
   "metadata": {},
   "outputs": [
    {
     "data": {
      "text/plain": [
       "Kurtosis             1.00\n",
       "Entropy              1.00\n",
       "Busyness             0.50\n",
       "SumEntropy           0.50\n",
       "JointAverage         0.25\n",
       "Skewness             0.25\n",
       "SumAverage           0.25\n",
       "DependenceEntropy    0.25\n",
       "Name: FEATURE, dtype: float64"
      ]
     },
     "execution_count": 6,
     "metadata": {},
     "output_type": "execute_result"
    }
   ],
   "source": [
    "best[\"FEATURE\"].value_counts()/4"
   ]
  },
  {
   "cell_type": "code",
   "execution_count": 7,
   "metadata": {},
   "outputs": [
    {
     "data": {
      "text/plain": [
       "FO       0.5625\n",
       "GLCM     0.2500\n",
       "NGTDM    0.1250\n",
       "GLDM     0.0625\n",
       "Name: GROUP, dtype: float64"
      ]
     },
     "execution_count": 7,
     "metadata": {},
     "output_type": "execute_result"
    }
   ],
   "source": [
    "best[\"GROUP\"].value_counts(normalize=True)"
   ]
  },
  {
   "cell_type": "code",
   "execution_count": 8,
   "metadata": {},
   "outputs": [
    {
     "data": {
      "text/html": [
       "<div>\n",
       "<style scoped>\n",
       "    .dataframe tbody tr th:only-of-type {\n",
       "        vertical-align: middle;\n",
       "    }\n",
       "\n",
       "    .dataframe tbody tr th {\n",
       "        vertical-align: top;\n",
       "    }\n",
       "\n",
       "    .dataframe thead th {\n",
       "        text-align: right;\n",
       "    }\n",
       "</style>\n",
       "<table border=\"1\" class=\"dataframe\">\n",
       "  <thead>\n",
       "    <tr style=\"text-align: right;\">\n",
       "      <th></th>\n",
       "      <th>MASK</th>\n",
       "      <th>FEATURE</th>\n",
       "      <th>GROUP</th>\n",
       "      <th>AUC</th>\n",
       "    </tr>\n",
       "  </thead>\n",
       "  <tbody>\n",
       "    <tr>\n",
       "      <th>0</th>\n",
       "      <td>1</td>\n",
       "      <td>Busyness</td>\n",
       "      <td>NGTDM</td>\n",
       "      <td>0.762</td>\n",
       "    </tr>\n",
       "    <tr>\n",
       "      <th>1</th>\n",
       "      <td>1</td>\n",
       "      <td>Entropy</td>\n",
       "      <td>FO</td>\n",
       "      <td>0.729</td>\n",
       "    </tr>\n",
       "    <tr>\n",
       "      <th>2</th>\n",
       "      <td>1</td>\n",
       "      <td>JointAverage</td>\n",
       "      <td>GLCM</td>\n",
       "      <td>0.731</td>\n",
       "    </tr>\n",
       "    <tr>\n",
       "      <th>3</th>\n",
       "      <td>1</td>\n",
       "      <td>Kurtosis</td>\n",
       "      <td>FO</td>\n",
       "      <td>0.729</td>\n",
       "    </tr>\n",
       "    <tr>\n",
       "      <th>4</th>\n",
       "      <td>1</td>\n",
       "      <td>SumAverage</td>\n",
       "      <td>GLCM</td>\n",
       "      <td>0.730</td>\n",
       "    </tr>\n",
       "    <tr>\n",
       "      <th>5</th>\n",
       "      <td>2</td>\n",
       "      <td>Busyness</td>\n",
       "      <td>NGTDM</td>\n",
       "      <td>0.776</td>\n",
       "    </tr>\n",
       "    <tr>\n",
       "      <th>6</th>\n",
       "      <td>2</td>\n",
       "      <td>DependenceEntropy</td>\n",
       "      <td>GLDM</td>\n",
       "      <td>0.742</td>\n",
       "    </tr>\n",
       "    <tr>\n",
       "      <th>7</th>\n",
       "      <td>2</td>\n",
       "      <td>Entropy</td>\n",
       "      <td>FO</td>\n",
       "      <td>0.738</td>\n",
       "    </tr>\n",
       "    <tr>\n",
       "      <th>8</th>\n",
       "      <td>2</td>\n",
       "      <td>Kurtosis</td>\n",
       "      <td>FO</td>\n",
       "      <td>0.756</td>\n",
       "    </tr>\n",
       "    <tr>\n",
       "      <th>9</th>\n",
       "      <td>2</td>\n",
       "      <td>Skewness</td>\n",
       "      <td>FO</td>\n",
       "      <td>0.749</td>\n",
       "    </tr>\n",
       "    <tr>\n",
       "      <th>10</th>\n",
       "      <td>2</td>\n",
       "      <td>SumEntropy</td>\n",
       "      <td>GLCM</td>\n",
       "      <td>0.737</td>\n",
       "    </tr>\n",
       "    <tr>\n",
       "      <th>11</th>\n",
       "      <td>3</td>\n",
       "      <td>Entropy</td>\n",
       "      <td>FO</td>\n",
       "      <td>0.746</td>\n",
       "    </tr>\n",
       "    <tr>\n",
       "      <th>12</th>\n",
       "      <td>3</td>\n",
       "      <td>Kurtosis</td>\n",
       "      <td>FO</td>\n",
       "      <td>0.735</td>\n",
       "    </tr>\n",
       "    <tr>\n",
       "      <th>13</th>\n",
       "      <td>3</td>\n",
       "      <td>SumEntropy</td>\n",
       "      <td>GLCM</td>\n",
       "      <td>0.738</td>\n",
       "    </tr>\n",
       "    <tr>\n",
       "      <th>14</th>\n",
       "      <td>4</td>\n",
       "      <td>Entropy</td>\n",
       "      <td>FO</td>\n",
       "      <td>0.729</td>\n",
       "    </tr>\n",
       "    <tr>\n",
       "      <th>15</th>\n",
       "      <td>4</td>\n",
       "      <td>Kurtosis</td>\n",
       "      <td>FO</td>\n",
       "      <td>0.728</td>\n",
       "    </tr>\n",
       "  </tbody>\n",
       "</table>\n",
       "</div>"
      ],
      "text/plain": [
       "    MASK            FEATURE  GROUP    AUC\n",
       "0      1           Busyness  NGTDM  0.762\n",
       "1      1            Entropy     FO  0.729\n",
       "2      1       JointAverage   GLCM  0.731\n",
       "3      1           Kurtosis     FO  0.729\n",
       "4      1         SumAverage   GLCM  0.730\n",
       "5      2           Busyness  NGTDM  0.776\n",
       "6      2  DependenceEntropy   GLDM  0.742\n",
       "7      2            Entropy     FO  0.738\n",
       "8      2           Kurtosis     FO  0.756\n",
       "9      2           Skewness     FO  0.749\n",
       "10     2         SumEntropy   GLCM  0.737\n",
       "11     3            Entropy     FO  0.746\n",
       "12     3           Kurtosis     FO  0.735\n",
       "13     3         SumEntropy   GLCM  0.738\n",
       "14     4            Entropy     FO  0.729\n",
       "15     4           Kurtosis     FO  0.728"
      ]
     },
     "execution_count": 8,
     "metadata": {},
     "output_type": "execute_result"
    }
   ],
   "source": [
    "cols = [\"MASK\", \"FEATURE\" , \"GROUP\",\"AUC\"]\n",
    "best.sort_values(by = cols)\\\n",
    "    .filter(cols)\\\n",
    "    .reset_index(drop = True)"
   ]
  },
  {
   "cell_type": "code",
   "execution_count": 9,
   "metadata": {},
   "outputs": [],
   "source": [
    "best_features = best[\"FEATURE\"].unique()\n",
    "\n",
    "cond = data[\"FEATURE\"].apply(lambda x: True if x in best_features else False)\n",
    "plot_data = data[cond].sort_values(by = \"GROUP\")"
   ]
  },
  {
   "cell_type": "code",
   "execution_count": 10,
   "metadata": {},
   "outputs": [
    {
     "data": {
      "image/png": "[encoded data removed]",
      "text/plain": [
       "<Figure size 1440x576 with 1 Axes>"
      ]
     },
     "metadata": {},
     "output_type": "display_data"
    }
   ],
   "source": [
    "plt.figure(figsize= (20,8))\n",
    "g = sns.barplot(data = plot_data, \n",
    "                x=\"FEATURE\", \n",
    "                y=\"AUC\", \n",
    "                hue=\"MASK\",\n",
    "                edgecolor=(0,0,0),\n",
    "                linewidth=2,\n",
    "                alpha=.8)\n",
    "g.set(ylim=(0.45, 0.8))\n",
    "plt.xticks(rotation=0)\n",
    "plt.legend(bbox_to_anchor=(1.01, 1),borderaxespad=0).set_title('MASK')\n",
    "plt.savefig(os.path.join(os.getcwd(), \"figures\", \"model\", \"bestLogregFeatures.png\"),format = \"png\")\n",
    "plt.show()"
   ]
  }
 ],
 "metadata": {
  "kernelspec": {
   "display_name": "venv_tg",
   "language": "python",
   "name": "venv_tg"
  },
  "language_info": {
   "codemirror_mode": {
    "name": "ipython",
    "version": 3
   },
   "file_extension": ".py",
   "mimetype": "text/x-python",
   "name": "python",
   "nbconvert_exporter": "python",
   "pygments_lexer": "ipython3",
   "version": "3.8.5"
  }
 },
 "nbformat": 4,
 "nbformat_minor": 4
}
