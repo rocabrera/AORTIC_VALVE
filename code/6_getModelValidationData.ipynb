{
 "cells": [
  {
   "cell_type": "code",
   "execution_count": 1,
   "metadata": {
    "ExecuteTime": {
     "end_time": "2020-05-09T05:49:29.367632Z",
     "start_time": "2020-05-09T05:49:26.591482Z"
    }
   },
   "outputs": [],
   "source": [
    "import os \n",
    "import pandas as pd \n",
    "import numpy as np\n",
    "\n",
    "import matplotlib.pyplot as plt\n",
    "\n",
    "from sklearn.model_selection import cross_val_score, train_test_split, LeaveOneOut, StratifiedKFold\n",
    "from sklearn.metrics import roc_auc_score, accuracy_score\n",
    "from sklearn.linear_model import LogisticRegression"
   ]
  },
  {
   "cell_type": "markdown",
   "metadata": {
    "heading_collapsed": true
   },
   "source": [
    "# Loading Data "
   ]
  },
  {
   "cell_type": "code",
   "execution_count": 2,
   "metadata": {
    "ExecuteTime": {
     "end_time": "2020-05-09T05:49:29.375611Z",
     "start_time": "2020-05-09T05:49:29.370625Z"
    },
    "hidden": true
   },
   "outputs": [],
   "source": [
    "os.chdir('..')"
   ]
  },
  {
   "cell_type": "code",
   "execution_count": 3,
   "metadata": {
    "ExecuteTime": {
     "end_time": "2020-05-09T05:49:29.471490Z",
     "start_time": "2020-05-09T05:49:29.377605Z"
    },
    "hidden": true
   },
   "outputs": [],
   "source": [
    "df=pd.read_parquet(os.path.join('data', 'modelData', 'modelData.parquet'))"
   ]
  },
  {
   "cell_type": "markdown",
   "metadata": {
    "heading_collapsed": true
   },
   "source": [
    "# Settings"
   ]
  },
  {
   "cell_type": "code",
   "execution_count": 4,
   "metadata": {
    "ExecuteTime": {
     "end_time": "2020-05-09T05:49:29.486960Z",
     "start_time": "2020-05-09T05:49:29.474483Z"
    },
    "hidden": true
   },
   "outputs": [],
   "source": [
    "df = df[df[\"BIN\"] == 32]\n",
    "df.drop(columns = [\"BIN\", \"ID\"], inplace = True)\n",
    "df.reset_index(drop = True , inplace = True)"
   ]
  },
  {
   "cell_type": "code",
   "execution_count": 5,
   "metadata": {
    "ExecuteTime": {
     "end_time": "2020-05-09T05:49:29.499926Z",
     "start_time": "2020-05-09T05:49:29.488955Z"
    },
    "hidden": true
   },
   "outputs": [],
   "source": [
    "logreg = LogisticRegression(\n",
    "                solver   = 'sag',\n",
    "                penalty  = 'l2',\n",
    "                max_iter = 10000,\n",
    "                n_jobs   = -1\n",
    "                )"
   ]
  },
  {
   "cell_type": "markdown",
   "metadata": {
    "heading_collapsed": true
   },
   "source": [
    "# Stratified cross-validation"
   ]
  },
  {
   "cell_type": "code",
   "execution_count": 6,
   "metadata": {
    "ExecuteTime": {
     "end_time": "2020-05-09T05:49:29.515882Z",
     "start_time": "2020-05-09T05:49:29.501921Z"
    },
    "hidden": true
   },
   "outputs": [],
   "source": [
    "n_Mask = 8\n",
    "\n",
    "skf = StratifiedKFold(n_splits = 5)\n",
    "\n",
    "groupFeat_lst = []\n",
    "feat_lst = []\n",
    "mask_lst = []\n",
    "auc_lst  = []\n",
    "acc_lst  = []"
   ]
  },
  {
   "cell_type": "code",
   "execution_count": 7,
   "metadata": {
    "ExecuteTime": {
     "end_time": "2020-05-09T05:53:35.653404Z",
     "start_time": "2020-05-09T05:49:29.517878Z"
    },
    "hidden": true
   },
   "outputs": [],
   "source": [
    "for mask in np.arange(1,n_Mask+1): #For each mask \n",
    "    \n",
    "    aux = df[df['MASK'] == mask].copy(deep=True)\n",
    "    aux.reset_index(drop = True, inplace = True)\n",
    "    aux.drop(columns = 'MASK', inplace = True)\n",
    "\n",
    "    y = aux['SEVERE']\n",
    "    X = aux.drop(columns = 'SEVERE')\n",
    "\n",
    "    for feature in range(X.shape[1]):#For each feature\n",
    "\n",
    "        string_lst = X.iloc[:,feature].name.split('_')\n",
    "\n",
    "        for train_index, test_index in skf.split(X, y):\n",
    "            \n",
    "            X_train, X_test = X.iloc[train_index, feature], X.iloc[test_index, feature]\n",
    "            y_train, y_test = y[train_index], y[test_index]\n",
    "\n",
    "            logreg.fit(X_train.values.reshape(-1, 1), y_train)\n",
    "\n",
    "            y_predict = logreg.predict(X_test.values.reshape(-1,1))\n",
    "            roc_auc = roc_auc_score(y_test, y_predict)\n",
    "            acc = logreg.score(X_test.values.reshape(-1, 1), y_test)\n",
    "            groupFeat_lst.append(string_lst[1])\n",
    "            feat_lst.append(string_lst[0])\n",
    "            mask_lst.append(mask)\n",
    "            acc_lst.append(acc)\n",
    "            auc_lst.append(roc_auc)\n",
    "            \n",
    "groupFeat_lst = np.array(groupFeat_lst)\n",
    "feat_lst = np.array(feat_lst)\n",
    "mask_lst = np.array(mask_lst)\n",
    "auc_lst  = np.array(auc_lst)\n",
    "acc_lst  = np.array(acc_lst)"
   ]
  },
  {
   "cell_type": "code",
   "execution_count": 8,
   "metadata": {
    "ExecuteTime": {
     "end_time": "2020-05-09T05:53:35.699313Z",
     "start_time": "2020-05-09T05:53:35.658395Z"
    },
    "hidden": true
   },
   "outputs": [],
   "source": [
    "data = np.vstack([groupFeat_lst, feat_lst, mask_lst, acc_lst, auc_lst]).T\n",
    "kfold_df = pd.DataFrame(data, columns = ['GROUP','FEATURE', 'MASK', 'ACC' ,'AUC'])\n",
    "kfold_df['ACC'] = kfold_df['ACC'].astype(float)\n",
    "kfold_df['AUC'] = kfold_df['AUC'].astype(float)\n",
    "kfold_df['MASK'] = kfold_df['MASK'].astype(int)"
   ]
  },
  {
   "cell_type": "code",
   "execution_count": 9,
   "metadata": {
    "ExecuteTime": {
     "end_time": "2020-05-09T05:53:35.714245Z",
     "start_time": "2020-05-09T05:53:35.702282Z"
    },
    "hidden": true
   },
   "outputs": [],
   "source": [
    "kfold_df.groupby(by = ['FEATURE','GROUP','MASK']).mean().nlargest(15, 'AUC')\n",
    "kfold_df.reset_index(drop = True, inplace = True)"
   ]
  },
  {
   "cell_type": "code",
   "execution_count": 10,
   "metadata": {
    "ExecuteTime": {
     "end_time": "2020-05-09T05:53:36.066019Z",
     "start_time": "2020-05-09T05:53:35.716240Z"
    },
    "hidden": true
   },
   "outputs": [],
   "source": [
    "kfold_df.to_parquet(os.path.join('data', 'validationModelData', f'kfold{skf.get_n_splits()}.parquet'))"
   ]
  },
  {
   "cell_type": "markdown",
   "metadata": {},
   "source": [
    "# Repeated Random Test-Train Splits"
   ]
  },
  {
   "cell_type": "code",
   "execution_count": 11,
   "metadata": {
    "ExecuteTime": {
     "end_time": "2020-05-09T05:53:36.078939Z",
     "start_time": "2020-05-09T05:53:36.069963Z"
    }
   },
   "outputs": [],
   "source": [
    "n_Mask = 8\n",
    "\n",
    "n_iter = 100\n",
    "\n",
    "groupFeat_lst = []\n",
    "feat_lst = []\n",
    "mask_lst = []\n",
    "auc_lst  = []\n",
    "acc_lst  = []"
   ]
  },
  {
   "cell_type": "code",
   "execution_count": 12,
   "metadata": {
    "ExecuteTime": {
     "end_time": "2020-05-09T08:09:30.661024Z",
     "start_time": "2020-05-09T05:53:36.083926Z"
    }
   },
   "outputs": [
    {
     "name": "stderr",
     "output_type": "stream",
     "text": [
      "/home/rocabrera/.pyenv/versions/venv_tg/lib/python3.8/site-packages/sklearn/linear_model/_sag.py:329: ConvergenceWarning: The max_iter was reached which means the coef_ did not converge\n",
      "  warnings.warn(\"The max_iter was reached which means \"\n",
      "/home/rocabrera/.pyenv/versions/venv_tg/lib/python3.8/site-packages/sklearn/linear_model/_sag.py:329: ConvergenceWarning: The max_iter was reached which means the coef_ did not converge\n",
      "  warnings.warn(\"The max_iter was reached which means \"\n",
      "/home/rocabrera/.pyenv/versions/venv_tg/lib/python3.8/site-packages/sklearn/linear_model/_sag.py:329: ConvergenceWarning: The max_iter was reached which means the coef_ did not converge\n",
      "  warnings.warn(\"The max_iter was reached which means \"\n",
      "/home/rocabrera/.pyenv/versions/venv_tg/lib/python3.8/site-packages/sklearn/linear_model/_sag.py:329: ConvergenceWarning: The max_iter was reached which means the coef_ did not converge\n",
      "  warnings.warn(\"The max_iter was reached which means \"\n",
      "/home/rocabrera/.pyenv/versions/venv_tg/lib/python3.8/site-packages/sklearn/linear_model/_sag.py:329: ConvergenceWarning: The max_iter was reached which means the coef_ did not converge\n",
      "  warnings.warn(\"The max_iter was reached which means \"\n",
      "/home/rocabrera/.pyenv/versions/venv_tg/lib/python3.8/site-packages/sklearn/linear_model/_sag.py:329: ConvergenceWarning: The max_iter was reached which means the coef_ did not converge\n",
      "  warnings.warn(\"The max_iter was reached which means \"\n",
      "/home/rocabrera/.pyenv/versions/venv_tg/lib/python3.8/site-packages/sklearn/linear_model/_sag.py:329: ConvergenceWarning: The max_iter was reached which means the coef_ did not converge\n",
      "  warnings.warn(\"The max_iter was reached which means \"\n"
     ]
    }
   ],
   "source": [
    "for mask in np.arange(1,n_Mask+1): #For each mask \n",
    "    \n",
    "    aux = df[df['MASK'] == mask].copy(deep=True)\n",
    "    aux.reset_index(drop = True, inplace = True)\n",
    "    aux.drop(columns = 'MASK', inplace = True)\n",
    "\n",
    "    y = aux['SEVERE']\n",
    "    X = aux.drop(columns = 'SEVERE')\n",
    "\n",
    "    for feature in range(X.shape[1]):#For each feature\n",
    "\n",
    "        string_lst = X.iloc[:,feature].name.split('_')\n",
    "\n",
    "        for i in range(n_iter):\n",
    "            \n",
    "            X_train, X_test, y_train, y_test = train_test_split(X.iloc[:, feature], y, test_size=0.2,\n",
    "                                                                stratify = y, random_state = i)\n",
    "             \n",
    "            logreg.fit(X_train.values.reshape(-1, 1), y_train)\n",
    "\n",
    "            y_predict = logreg.predict(X_test.values.reshape(-1,1))\n",
    "            roc_auc = roc_auc_score(y_test, y_predict)\n",
    "            acc = logreg.score(X_test.values.reshape(-1, 1), y_test)\n",
    "            groupFeat_lst.append(string_lst[1])\n",
    "            feat_lst.append(string_lst[0])\n",
    "            mask_lst.append(mask)\n",
    "            acc_lst.append(acc)\n",
    "            auc_lst.append(roc_auc)\n",
    "            \n",
    "groupFeat_lst = np.array(groupFeat_lst)\n",
    "feat_lst = np.array(feat_lst)\n",
    "mask_lst = np.array(mask_lst)\n",
    "auc_lst  = np.array(auc_lst)\n",
    "acc_lst  = np.array(acc_lst)"
   ]
  },
  {
   "cell_type": "code",
   "execution_count": 13,
   "metadata": {
    "ExecuteTime": {
     "end_time": "2020-05-09T08:09:31.084894Z",
     "start_time": "2020-05-09T08:09:30.662944Z"
    }
   },
   "outputs": [],
   "source": [
    "data = np.vstack([groupFeat_lst, feat_lst, mask_lst, acc_lst, auc_lst]).T\n",
    "randomTestTrainSplit_df = pd.DataFrame(data, columns = ['GROUP','FEATURE', 'MASK', 'ACC' ,'AUC'])\n",
    "randomTestTrainSplit_df['ACC']  = randomTestTrainSplit_df['ACC'].astype(float)\n",
    "randomTestTrainSplit_df['AUC']  = randomTestTrainSplit_df['AUC'].astype(float)\n",
    "randomTestTrainSplit_df['MASK'] = randomTestTrainSplit_df['MASK'].astype(int)"
   ]
  },
  {
   "cell_type": "code",
   "execution_count": 14,
   "metadata": {
    "ExecuteTime": {
     "end_time": "2020-05-09T08:09:31.113805Z",
     "start_time": "2020-05-09T08:09:31.086810Z"
    }
   },
   "outputs": [],
   "source": [
    "randomTestTrainSplit_df.groupby(by = ['FEATURE','GROUP','MASK']).mean().nlargest(10, 'AUC')\n",
    "randomTestTrainSplit_df.reset_index(drop = True, inplace = True)"
   ]
  },
  {
   "cell_type": "code",
   "execution_count": 15,
   "metadata": {
    "ExecuteTime": {
     "end_time": "2020-05-09T08:09:31.158765Z",
     "start_time": "2020-05-09T08:09:31.115721Z"
    }
   },
   "outputs": [],
   "source": [
    "randomTestTrainSplit_df.to_parquet(os.path.join('data', 'validationModelData', f'randomTestTrainSplit{n_iter}.parquet'))"
   ]
  },
  {
   "cell_type": "markdown",
   "metadata": {},
   "source": [
    "# Bootstrapping"
   ]
  },
  {
   "cell_type": "code",
   "execution_count": 16,
   "metadata": {
    "ExecuteTime": {
     "end_time": "2020-05-09T08:09:31.164752Z",
     "start_time": "2020-05-09T08:09:31.160763Z"
    }
   },
   "outputs": [],
   "source": [
    "from sklearn.utils import resample"
   ]
  },
  {
   "cell_type": "code",
   "execution_count": 17,
   "metadata": {
    "ExecuteTime": {
     "end_time": "2020-05-09T08:09:31.175724Z",
     "start_time": "2020-05-09T08:09:31.166747Z"
    }
   },
   "outputs": [],
   "source": [
    "n_Mask = 8\n",
    "\n",
    "n_iter = 50\n",
    "\n",
    "groupFeat_lst = []\n",
    "feat_lst = []\n",
    "mask_lst = []\n",
    "auc_lst  = []\n",
    "acc_lst  = []"
   ]
  },
  {
   "cell_type": "code",
   "execution_count": 18,
   "metadata": {
    "ExecuteTime": {
     "end_time": "2020-05-09T10:25:44.588063Z",
     "start_time": "2020-05-09T08:09:31.177718Z"
    }
   },
   "outputs": [
    {
     "name": "stderr",
     "output_type": "stream",
     "text": [
      "/home/rocabrera/.pyenv/versions/venv_tg/lib/python3.8/site-packages/sklearn/linear_model/_sag.py:329: ConvergenceWarning: The max_iter was reached which means the coef_ did not converge\n",
      "  warnings.warn(\"The max_iter was reached which means \"\n"
     ]
    }
   ],
   "source": [
    "for mask in np.arange(1,n_Mask+1): #For each mask \n",
    "    \n",
    "    aux = df[df['MASK'] == mask].copy(deep=True)\n",
    "    aux.reset_index(drop = True, inplace = True)\n",
    "    aux.drop(columns = 'MASK', inplace = True)\n",
    "\n",
    "    for feature in range(1, aux.shape[1]):#For each feature\n",
    "\n",
    "        string_lst = aux.iloc[:,feature].name.split('_')\n",
    "\n",
    "        for i in range(n_iter):\n",
    "\n",
    "            data = aux[['SEVERE', ('_').join(string_lst)]].values\n",
    "            \n",
    "            train = resample(data, n_samples = len(aux))\n",
    "            test = np.array([x for x in data if x.tolist() not in train.tolist()])\n",
    "\n",
    "            logreg.fit(train[:,1:],train[:,0].astype(int))\n",
    "\n",
    "            y_predict = logreg.predict(test[:,1:])\n",
    "            roc_auc = roc_auc_score(test[:,0], y_predict)\n",
    "            acc = accuracy_score(test[:,0], y_predict)\n",
    "            groupFeat_lst.append(string_lst[1])\n",
    "            feat_lst.append(string_lst[0])\n",
    "            mask_lst.append(mask)\n",
    "            acc_lst.append(acc)\n",
    "            auc_lst.append(roc_auc)\n",
    "            \n",
    "            \n",
    "groupFeat_lst = np.array(groupFeat_lst)\n",
    "feat_lst = np.array(feat_lst)\n",
    "mask_lst = np.array(mask_lst)\n",
    "auc_lst  = np.array(auc_lst)\n",
    "acc_lst  = np.array(acc_lst)"
   ]
  },
  {
   "cell_type": "code",
   "execution_count": 19,
   "metadata": {
    "ExecuteTime": {
     "end_time": "2020-05-09T10:25:44.895474Z",
     "start_time": "2020-05-09T10:25:44.589984Z"
    }
   },
   "outputs": [],
   "source": [
    "data = np.vstack([groupFeat_lst, feat_lst, mask_lst, acc_lst, auc_lst]).T\n",
    "bootstrapping_df = pd.DataFrame(data, columns = ['GROUP','FEATURE', 'MASK', 'ACC' ,'AUC'])\n",
    "bootstrapping_df['ACC']  = bootstrapping_df['ACC'].astype(float)\n",
    "bootstrapping_df['AUC']  = bootstrapping_df['AUC'].astype(float)\n",
    "bootstrapping_df['MASK'] = bootstrapping_df['MASK'].astype(int)"
   ]
  },
  {
   "cell_type": "code",
   "execution_count": 20,
   "metadata": {
    "ExecuteTime": {
     "end_time": "2020-05-09T10:25:44.923401Z",
     "start_time": "2020-05-09T10:25:44.897398Z"
    }
   },
   "outputs": [],
   "source": [
    "bootstrapping_df.groupby(by = ['FEATURE','GROUP','MASK']).mean().nlargest(10, 'AUC')\n",
    "bootstrapping_df.reset_index(drop = True, inplace = True)"
   ]
  },
  {
   "cell_type": "code",
   "execution_count": 21,
   "metadata": {
    "ExecuteTime": {
     "end_time": "2020-05-09T10:25:45.376286Z",
     "start_time": "2020-05-09T10:25:44.925154Z"
    }
   },
   "outputs": [],
   "source": [
    "bootstrapping_df.to_parquet(os.path.join('data', 'validationModelData', f'bootstrapping{n_iter}.parquet'))"
   ]
  }
 ],
 "metadata": {
  "kernelspec": {
   "display_name": "venv_tg",
   "language": "python",
   "name": "venv_tg"
  },
  "language_info": {
   "codemirror_mode": {
    "name": "ipython",
    "version": 3
   },
   "file_extension": ".py",
   "mimetype": "text/x-python",
   "name": "python",
   "nbconvert_exporter": "python",
   "pygments_lexer": "ipython3",
   "version": "3.8.5"
  },
  "latex_envs": {
   "LaTeX_envs_menu_present": true,
   "autoclose": false,
   "autocomplete": true,
   "bibliofile": "biblio.bib",
   "cite_by": "apalike",
   "current_citInitial": 1,
   "eqLabelWithNumbers": true,
   "eqNumInitial": 1,
   "hotkeys": {
    "equation": "Ctrl-E",
    "itemize": "Ctrl-I"
   },
   "labels_anchors": false,
   "latex_user_defs": false,
   "report_style_numbering": false,
   "user_envs_cfg": false
  },
  "toc": {
   "base_numbering": 1,
   "nav_menu": {},
   "number_sections": true,
   "sideBar": true,
   "skip_h1_title": false,
   "title_cell": "Table of Contents",
   "title_sidebar": "Contents",
   "toc_cell": false,
   "toc_position": {},
   "toc_section_display": true,
   "toc_window_display": false
  }
 },
 "nbformat": 4,
 "nbformat_minor": 4
}
