{
 "cells": [
  {
   "cell_type": "code",
   "execution_count": 1,
   "metadata": {
    "ExecuteTime": {
     "end_time": "2020-05-09T05:49:29.367632Z",
     "start_time": "2020-05-09T05:49:26.591482Z"
    }
   },
   "outputs": [],
   "source": [
    "import os \n",
    "import pandas as pd \n",
    "import numpy as np\n",
    "\n",
    "import matplotlib.pyplot as plt\n",
    "\n",
    "from sklearn.model_selection import cross_val_score, train_test_split, LeaveOneOut, StratifiedKFold\n",
    "from sklearn.metrics import roc_auc_score, accuracy_score\n",
    "from sklearn.linear_model import LogisticRegression"
   ]
  },
  {
   "cell_type": "markdown",
   "metadata": {
    "heading_collapsed": true
   },
   "source": [
    "# Loading Data "
   ]
  },
  {
   "cell_type": "code",
   "execution_count": 2,
   "metadata": {
    "ExecuteTime": {
     "end_time": "2020-05-09T05:49:29.375611Z",
     "start_time": "2020-05-09T05:49:29.370625Z"
    },
    "hidden": true
   },
   "outputs": [],
   "source": [
    "os.chdir('..')"
   ]
  },
  {
   "cell_type": "code",
   "execution_count": 3,
   "metadata": {
    "ExecuteTime": {
     "end_time": "2020-05-09T05:49:29.471490Z",
     "start_time": "2020-05-09T05:49:29.377605Z"
    },
    "hidden": true
   },
   "outputs": [],
   "source": [
    "df=pd.read_parquet(os.path.join('data', 'modelData', 'modelData.parquet'))"
   ]
  },
  {
   "cell_type": "markdown",
   "metadata": {
    "heading_collapsed": true
   },
   "source": [
    "# Settings"
   ]
  },
  {
   "cell_type": "code",
   "execution_count": 4,
   "metadata": {
    "ExecuteTime": {
     "end_time": "2020-05-09T05:49:29.486960Z",
     "start_time": "2020-05-09T05:49:29.474483Z"
    },
    "hidden": true
   },
   "outputs": [],
   "source": [
    "df = df[df[\"BIN\"] == 32]\n",
    "df.drop(columns = [\"BIN\", \"ID\"], inplace = True)\n",
    "df.reset_index(drop = True , inplace = True)"
   ]
  },
  {
   "cell_type": "code",
   "execution_count": 5,
   "metadata": {
    "ExecuteTime": {
     "end_time": "2020-05-09T05:49:29.499926Z",
     "start_time": "2020-05-09T05:49:29.488955Z"
    },
    "hidden": true
   },
   "outputs": [],
   "source": [
    "logreg = LogisticRegression(\n",
    "                solver   = 'sag',\n",
    "                penalty  = 'l2',\n",
    "                max_iter = 10000,\n",
    "                n_jobs   = -1\n",
    "                )"
   ]
  },
  {
   "cell_type": "markdown",
   "metadata": {
    "heading_collapsed": true
   },
   "source": [
    "# Stratified cross-validation"
   ]
  },
  {
   "cell_type": "markdown",
   "metadata": {
    "hidden": true
   },
   "source": [
    "There are (at least) two small sample size problems mixed here:\n",
    "\n",
    "- because you have too few training cases, your models (including the surrogate models of the cross validation) are not only bad on average, but also unstable (i.e. vary much if a few training instances are exchanged).\n",
    "\n",
    "- because you have too few test cases, your test results themselves are uncertain as well. So the results you observe may be (approximately) described as\n",
    "\n",
    "learning curve (= average performance as function of ntrain) +\n",
    "model instability (= variance due to training sample size) +\n",
    "test variance (= variance due to test sample size) +\n",
    "testing bias (depending on how exactly you formulate your scenario, i.e. wrt. to ntrain or n"
   ]
  },
  {
   "cell_type": "code",
   "execution_count": 6,
   "metadata": {
    "ExecuteTime": {
     "end_time": "2020-05-09T05:49:29.515882Z",
     "start_time": "2020-05-09T05:49:29.501921Z"
    },
    "hidden": true
   },
   "outputs": [],
   "source": [
    "n_Mask = 8\n",
    "\n",
    "skf = StratifiedKFold(n_splits = 3)\n",
    "\n",
    "groupFeat_lst = []\n",
    "feat_lst = []\n",
    "mask_lst = []\n",
    "auc_lst  = []\n",
    "acc_lst  = []"
   ]
  },
  {
   "cell_type": "code",
   "execution_count": 7,
   "metadata": {
    "ExecuteTime": {
     "end_time": "2020-05-09T05:53:35.653404Z",
     "start_time": "2020-05-09T05:49:29.517878Z"
    },
    "hidden": true
   },
   "outputs": [],
   "source": [
    "for mask in np.arange(1,n_Mask+1): #For each mask \n",
    "    \n",
    "    aux = df[df['MASK'] == mask].copy(deep=True)\n",
    "    aux.reset_index(drop = True, inplace = True)\n",
    "    aux.drop(columns = 'MASK', inplace = True)\n",
    "\n",
    "    y = aux['SEVERE']\n",
    "    X = aux.drop(columns = 'SEVERE')\n",
    "\n",
    "    for feature in range(X.shape[1]):#For each feature\n",
    "\n",
    "        string_lst = X.iloc[:,feature].name.split('_')\n",
    "\n",
    "        for train_index, test_index in skf.split(X, y):\n",
    "            \n",
    "            X_train, X_test = X.iloc[train_index, feature], X.iloc[test_index, feature]\n",
    "            y_train, y_test = y[train_index], y[test_index]\n",
    "\n",
    "            logreg.fit(X_train.values.reshape(-1, 1), y_train)\n",
    "\n",
    "            y_predict = logreg.predict(X_test.values.reshape(-1,1))\n",
    "            roc_auc = roc_auc_score(y_test, y_predict)\n",
    "            acc = logreg.score(X_test.values.reshape(-1, 1), y_test)\n",
    "            groupFeat_lst.append(string_lst[1])\n",
    "            feat_lst.append(string_lst[0])\n",
    "            mask_lst.append(mask)\n",
    "            acc_lst.append(acc)\n",
    "            auc_lst.append(roc_auc)\n",
    "            \n",
    "groupFeat_lst = np.array(groupFeat_lst)\n",
    "feat_lst = np.array(feat_lst)\n",
    "mask_lst = np.array(mask_lst)\n",
    "auc_lst  = np.array(auc_lst)\n",
    "acc_lst  = np.array(acc_lst)"
   ]
  },
  {
   "cell_type": "code",
   "execution_count": 8,
   "metadata": {
    "ExecuteTime": {
     "end_time": "2020-05-09T05:53:35.699313Z",
     "start_time": "2020-05-09T05:53:35.658395Z"
    },
    "hidden": true
   },
   "outputs": [],
   "source": [
    "data = np.vstack([groupFeat_lst, feat_lst, mask_lst, acc_lst, auc_lst]).T\n",
    "kfold_df = pd.DataFrame(data, columns = ['GROUP','FEATURE', 'MASK', 'ACC' ,'AUC'])\n",
    "kfold_df['ACC'] = kfold_df['ACC'].astype(float)\n",
    "kfold_df['AUC'] = kfold_df['AUC'].astype(float)\n",
    "kfold_df['MASK'] = kfold_df['MASK'].astype(int)"
   ]
  },
  {
   "cell_type": "code",
   "execution_count": 9,
   "metadata": {
    "ExecuteTime": {
     "end_time": "2020-05-09T05:53:35.714245Z",
     "start_time": "2020-05-09T05:53:35.702282Z"
    },
    "hidden": true
   },
   "outputs": [],
   "source": [
    "kfold_df.groupby(by = ['FEATURE','GROUP','MASK']).mean().nlargest(15, 'AUC')\n",
    "kfold_df.reset_index(drop = True, inplace = True)"
   ]
  },
  {
   "cell_type": "code",
   "execution_count": 10,
   "metadata": {
    "ExecuteTime": {
     "end_time": "2020-05-09T05:53:36.066019Z",
     "start_time": "2020-05-09T05:53:35.716240Z"
    },
    "hidden": true
   },
   "outputs": [],
   "source": [
    "kfold_df.to_parquet(os.path.join('data', 'validationModelData', f'kfold{skf.get_n_splits()}.parquet'))"
   ]
  },
  {
   "cell_type": "markdown",
   "metadata": {},
   "source": [
    "# Repeated Random Test-Train Splits"
   ]
  },
  {
   "cell_type": "code",
   "execution_count": 11,
   "metadata": {
    "ExecuteTime": {
     "end_time": "2020-05-09T05:53:36.078939Z",
     "start_time": "2020-05-09T05:53:36.069963Z"
    }
   },
   "outputs": [],
   "source": [
    "n_Mask = 8\n",
    "\n",
    "n_iter = 100\n",
    "\n",
    "groupFeat_lst = []\n",
    "feat_lst = []\n",
    "mask_lst = []\n",
    "auc_lst  = []\n",
    "acc_lst  = []"
   ]
  },
  {
   "cell_type": "code",
   "execution_count": 12,
   "metadata": {
    "ExecuteTime": {
     "end_time": "2020-05-09T08:09:30.661024Z",
     "start_time": "2020-05-09T05:53:36.083926Z"
    },
    "collapsed": true
   },
   "outputs": [
    {
     "name": "stderr",
     "output_type": "stream",
     "text": [
      "C:\\Users\\casta\\Anaconda3\\lib\\site-packages\\sklearn\\linear_model\\sag.py:337: ConvergenceWarning: The max_iter was reached which means the coef_ did not converge\n",
      "  \"the coef_ did not converge\", ConvergenceWarning)\n",
      "C:\\Users\\casta\\Anaconda3\\lib\\site-packages\\sklearn\\linear_model\\sag.py:337: ConvergenceWarning: The max_iter was reached which means the coef_ did not converge\n",
      "  \"the coef_ did not converge\", ConvergenceWarning)\n",
      "C:\\Users\\casta\\Anaconda3\\lib\\site-packages\\sklearn\\linear_model\\sag.py:337: ConvergenceWarning: The max_iter was reached which means the coef_ did not converge\n",
      "  \"the coef_ did not converge\", ConvergenceWarning)\n",
      "C:\\Users\\casta\\Anaconda3\\lib\\site-packages\\sklearn\\linear_model\\sag.py:337: ConvergenceWarning: The max_iter was reached which means the coef_ did not converge\n",
      "  \"the coef_ did not converge\", ConvergenceWarning)\n",
      "C:\\Users\\casta\\Anaconda3\\lib\\site-packages\\sklearn\\linear_model\\sag.py:337: ConvergenceWarning: The max_iter was reached which means the coef_ did not converge\n",
      "  \"the coef_ did not converge\", ConvergenceWarning)\n",
      "C:\\Users\\casta\\Anaconda3\\lib\\site-packages\\sklearn\\linear_model\\sag.py:337: ConvergenceWarning: The max_iter was reached which means the coef_ did not converge\n",
      "  \"the coef_ did not converge\", ConvergenceWarning)\n",
      "C:\\Users\\casta\\Anaconda3\\lib\\site-packages\\sklearn\\linear_model\\sag.py:337: ConvergenceWarning: The max_iter was reached which means the coef_ did not converge\n",
      "  \"the coef_ did not converge\", ConvergenceWarning)\n",
      "C:\\Users\\casta\\Anaconda3\\lib\\site-packages\\sklearn\\linear_model\\sag.py:337: ConvergenceWarning: The max_iter was reached which means the coef_ did not converge\n",
      "  \"the coef_ did not converge\", ConvergenceWarning)\n",
      "C:\\Users\\casta\\Anaconda3\\lib\\site-packages\\sklearn\\linear_model\\sag.py:337: ConvergenceWarning: The max_iter was reached which means the coef_ did not converge\n",
      "  \"the coef_ did not converge\", ConvergenceWarning)\n",
      "C:\\Users\\casta\\Anaconda3\\lib\\site-packages\\sklearn\\linear_model\\sag.py:337: ConvergenceWarning: The max_iter was reached which means the coef_ did not converge\n",
      "  \"the coef_ did not converge\", ConvergenceWarning)\n",
      "C:\\Users\\casta\\Anaconda3\\lib\\site-packages\\sklearn\\linear_model\\sag.py:337: ConvergenceWarning: The max_iter was reached which means the coef_ did not converge\n",
      "  \"the coef_ did not converge\", ConvergenceWarning)\n",
      "C:\\Users\\casta\\Anaconda3\\lib\\site-packages\\sklearn\\linear_model\\sag.py:337: ConvergenceWarning: The max_iter was reached which means the coef_ did not converge\n",
      "  \"the coef_ did not converge\", ConvergenceWarning)\n"
     ]
    }
   ],
   "source": [
    "for mask in np.arange(1,n_Mask+1): #For each mask \n",
    "    \n",
    "    aux = df[df['MASK'] == mask].copy(deep=True)\n",
    "    aux.reset_index(drop = True, inplace = True)\n",
    "    aux.drop(columns = 'MASK', inplace = True)\n",
    "\n",
    "    y = aux['SEVERE']\n",
    "    X = aux.drop(columns = 'SEVERE')\n",
    "\n",
    "    for feature in range(X.shape[1]):#For each feature\n",
    "\n",
    "        string_lst = X.iloc[:,feature].name.split('_')\n",
    "\n",
    "        for i in range(n_iter):\n",
    "            \n",
    "            X_train, X_test, y_train, y_test = train_test_split(X.iloc[:, feature], y, test_size=0.2,\n",
    "                                                                stratify = y, random_state = i)\n",
    "             \n",
    "            logreg.fit(X_train.values.reshape(-1, 1), y_train)\n",
    "\n",
    "            y_predict = logreg.predict(X_test.values.reshape(-1,1))\n",
    "            roc_auc = roc_auc_score(y_test, y_predict)\n",
    "            acc = logreg.score(X_test.values.reshape(-1, 1), y_test)\n",
    "            groupFeat_lst.append(string_lst[1])\n",
    "            feat_lst.append(string_lst[0])\n",
    "            mask_lst.append(mask)\n",
    "            acc_lst.append(acc)\n",
    "            auc_lst.append(roc_auc)\n",
    "            \n",
    "groupFeat_lst = np.array(groupFeat_lst)\n",
    "feat_lst = np.array(feat_lst)\n",
    "mask_lst = np.array(mask_lst)\n",
    "auc_lst  = np.array(auc_lst)\n",
    "acc_lst  = np.array(acc_lst)"
   ]
  },
  {
   "cell_type": "code",
   "execution_count": 13,
   "metadata": {
    "ExecuteTime": {
     "end_time": "2020-05-09T08:09:31.084894Z",
     "start_time": "2020-05-09T08:09:30.662944Z"
    }
   },
   "outputs": [],
   "source": [
    "data = np.vstack([groupFeat_lst, feat_lst, mask_lst, acc_lst, auc_lst]).T\n",
    "randomTestTrainSplit_df = pd.DataFrame(data, columns = ['GROUP','FEATURE', 'MASK', 'ACC' ,'AUC'])\n",
    "randomTestTrainSplit_df['ACC']  = randomTestTrainSplit_df['ACC'].astype(float)\n",
    "randomTestTrainSplit_df['AUC']  = randomTestTrainSplit_df['AUC'].astype(float)\n",
    "randomTestTrainSplit_df['MASK'] = randomTestTrainSplit_df['MASK'].astype(int)"
   ]
  },
  {
   "cell_type": "code",
   "execution_count": 14,
   "metadata": {
    "ExecuteTime": {
     "end_time": "2020-05-09T08:09:31.113805Z",
     "start_time": "2020-05-09T08:09:31.086810Z"
    }
   },
   "outputs": [],
   "source": [
    "#aux = kfold_df[kfold_df['MASK'] == 1]\n",
    "randomTestTrainSplit_df.groupby(by = ['FEATURE','GROUP','MASK']).mean().nlargest(10, 'AUC')\n",
    "randomTestTrainSplit_df.reset_index(drop = True, inplace = True)"
   ]
  },
  {
   "cell_type": "code",
   "execution_count": 15,
   "metadata": {
    "ExecuteTime": {
     "end_time": "2020-05-09T08:09:31.158765Z",
     "start_time": "2020-05-09T08:09:31.115721Z"
    }
   },
   "outputs": [],
   "source": [
    "randomTestTrainSplit_df.to_parquet(os.path.join('data', 'validationModelData', f'randomTestTrainSplit{n_iter}.parquet'))"
   ]
  },
  {
   "cell_type": "markdown",
   "metadata": {},
   "source": [
    "# Bootstrapping"
   ]
  },
  {
   "cell_type": "code",
   "execution_count": 16,
   "metadata": {
    "ExecuteTime": {
     "end_time": "2020-05-09T08:09:31.164752Z",
     "start_time": "2020-05-09T08:09:31.160763Z"
    }
   },
   "outputs": [],
   "source": [
    "from sklearn.utils import resample"
   ]
  },
  {
   "cell_type": "markdown",
   "metadata": {},
   "source": [
    "Bootstrap sampling is used in a machine learning ensemble algorithm called bootstrap aggregating (also called bagging)"
   ]
  },
  {
   "cell_type": "markdown",
   "metadata": {},
   "source": [
    "Bootstrap is a special case of the Monte Carlo simulation. The differences between the bootstrap and mote carlo methods are:\n",
    "\n",
    "Monte Carlo simulation is based on a random number and a a priori distribution form of data\n",
    "Bootstrap resamples with replacement on the real data."
   ]
  },
  {
   "cell_type": "markdown",
   "metadata": {},
   "source": [
    "Bootstrapping is resampling from known samples, monte carlo is trying to generate data depend on some parameters.\n",
    "we have samples, for example, 3, 2, 1, 5, 6, but sample size is too small, so we resample from this sample set for 10000 times, then the new sample set is more robust to represent something, this called bootstrapping.\n",
    "so boostrapping is based on unknown distribution, and Monte Carlo based on known distribution.\n",
    "\n",
    "The tie between the bootstrap and Monte Carlo simulation of a statistic is obvious: Both are based on repetitive sampling and then direct examination of the results. A big difference between the methods, however, is that bootstrapping uses the original, initial sample as the population from which to resample, whereas Monte Carlo simulation is based on setting up a data generation process (with known values of the parameters). Where Monte Carlo is used to test drive estimators, bootstrap methods can be used to estimate the variability of a statistic and the shape of its sampling distribution."
   ]
  },
  {
   "cell_type": "markdown",
   "metadata": {},
   "source": [
    " If you take the 5th percentile and 95th percentile, you have the bootstrapped 95% confidence interval. The big benefit here is now you can take the mean of those 10,000 AUCs, and give the standard error (sd/sqrt(n)) to give some idea of the variability."
   ]
  },
  {
   "cell_type": "code",
   "execution_count": 17,
   "metadata": {
    "ExecuteTime": {
     "end_time": "2020-05-09T08:09:31.175724Z",
     "start_time": "2020-05-09T08:09:31.166747Z"
    }
   },
   "outputs": [],
   "source": [
    "n_Mask = 8\n",
    "\n",
    "n_iter = 100\n",
    "\n",
    "groupFeat_lst = []\n",
    "feat_lst = []\n",
    "mask_lst = []\n",
    "auc_lst  = []\n",
    "acc_lst  = []"
   ]
  },
  {
   "cell_type": "code",
   "execution_count": 18,
   "metadata": {
    "ExecuteTime": {
     "end_time": "2020-05-09T10:25:44.588063Z",
     "start_time": "2020-05-09T08:09:31.177718Z"
    }
   },
   "outputs": [
    {
     "name": "stderr",
     "output_type": "stream",
     "text": [
      "C:\\Users\\casta\\Anaconda3\\lib\\site-packages\\sklearn\\linear_model\\sag.py:337: ConvergenceWarning: The max_iter was reached which means the coef_ did not converge\n",
      "  \"the coef_ did not converge\", ConvergenceWarning)\n",
      "C:\\Users\\casta\\Anaconda3\\lib\\site-packages\\sklearn\\linear_model\\sag.py:337: ConvergenceWarning: The max_iter was reached which means the coef_ did not converge\n",
      "  \"the coef_ did not converge\", ConvergenceWarning)\n",
      "C:\\Users\\casta\\Anaconda3\\lib\\site-packages\\sklearn\\linear_model\\sag.py:337: ConvergenceWarning: The max_iter was reached which means the coef_ did not converge\n",
      "  \"the coef_ did not converge\", ConvergenceWarning)\n"
     ]
    }
   ],
   "source": [
    "for mask in np.arange(1,n_Mask+1): #For each mask \n",
    "    \n",
    "    aux = df[df['MASK'] == mask].copy(deep=True)\n",
    "    aux.reset_index(drop = True, inplace = True)\n",
    "    aux.drop(columns = 'MASK', inplace = True)\n",
    "\n",
    "    for feature in range(1, aux.shape[1]):#For each feature\n",
    "\n",
    "        string_lst = aux.iloc[:,feature].name.split('_')\n",
    "\n",
    "        for i in range(n_iter):\n",
    "\n",
    "            data = aux[['SEVERE', ('_').join(string_lst)]].values\n",
    "            \n",
    "            train = resample(data, n_samples = len(aux))\n",
    "            test = np.array([x for x in data if x.tolist() not in train.tolist()])\n",
    "\n",
    "            logreg.fit(train[:,1:],train[:,0].astype(int))\n",
    "\n",
    "            y_predict = logreg.predict(test[:,1:])\n",
    "            roc_auc = roc_auc_score(test[:,0], y_predict)\n",
    "            acc = accuracy_score(test[:,0], y_predict)\n",
    "            groupFeat_lst.append(string_lst[1])\n",
    "            feat_lst.append(string_lst[0])\n",
    "            mask_lst.append(mask)\n",
    "            acc_lst.append(acc)\n",
    "            auc_lst.append(roc_auc)\n",
    "            \n",
    "            \n",
    "groupFeat_lst = np.array(groupFeat_lst)\n",
    "feat_lst = np.array(feat_lst)\n",
    "mask_lst = np.array(mask_lst)\n",
    "auc_lst  = np.array(auc_lst)\n",
    "acc_lst  = np.array(acc_lst)"
   ]
  },
  {
   "cell_type": "code",
   "execution_count": 19,
   "metadata": {
    "ExecuteTime": {
     "end_time": "2020-05-09T10:25:44.895474Z",
     "start_time": "2020-05-09T10:25:44.589984Z"
    }
   },
   "outputs": [],
   "source": [
    "data = np.vstack([groupFeat_lst, feat_lst, mask_lst, acc_lst, auc_lst]).T\n",
    "bootstrapping_df = pd.DataFrame(data, columns = ['GROUP','FEATURE', 'MASK', 'ACC' ,'AUC'])\n",
    "bootstrapping_df['ACC']  = bootstrapping_df['ACC'].astype(float)\n",
    "bootstrapping_df['AUC']  = bootstrapping_df['AUC'].astype(float)\n",
    "bootstrapping_df['MASK'] = bootstrapping_df['MASK'].astype(int)"
   ]
  },
  {
   "cell_type": "code",
   "execution_count": 20,
   "metadata": {
    "ExecuteTime": {
     "end_time": "2020-05-09T10:25:44.923401Z",
     "start_time": "2020-05-09T10:25:44.897398Z"
    }
   },
   "outputs": [],
   "source": [
    "bootstrapping_df.groupby(by = ['FEATURE','GROUP','MASK']).mean().nlargest(10, 'AUC')\n",
    "bootstrapping_df.reset_index(drop = True, inplace = True)"
   ]
  },
  {
   "cell_type": "code",
   "execution_count": 21,
   "metadata": {
    "ExecuteTime": {
     "end_time": "2020-05-09T10:25:45.376286Z",
     "start_time": "2020-05-09T10:25:44.925154Z"
    }
   },
   "outputs": [],
   "source": [
    "bootstrapping_df.to_parquet(os.path.join('data', 'validationModelData', f'bootstrapping{n_iter}.parquet'))"
   ]
  },
  {
   "cell_type": "markdown",
   "metadata": {},
   "source": [
    "# Validation "
   ]
  },
  {
   "cell_type": "code",
   "execution_count": 22,
   "metadata": {
    "ExecuteTime": {
     "end_time": "2020-05-09T14:50:58.886073Z",
     "start_time": "2020-05-09T14:50:58.875104Z"
    }
   },
   "outputs": [],
   "source": [
    "kfold_df =pd.read_parquet(os.path.join('data', 'validationModelData', 'kfold3.parquet'))"
   ]
  },
  {
   "cell_type": "code",
   "execution_count": 23,
   "metadata": {
    "ExecuteTime": {
     "end_time": "2020-05-09T14:50:59.107195Z",
     "start_time": "2020-05-09T14:50:59.076280Z"
    }
   },
   "outputs": [],
   "source": [
    "bootstrapping_df = pd.read_parquet(os.path.join('data', 'validationModelData', f'bootstrapping100.parquet'))"
   ]
  },
  {
   "cell_type": "code",
   "execution_count": 26,
   "metadata": {
    "ExecuteTime": {
     "end_time": "2020-05-09T14:51:26.372545Z",
     "start_time": "2020-05-09T14:51:26.351603Z"
    }
   },
   "outputs": [
    {
     "data": {
      "text/html": [
       "<div>\n",
       "<style scoped>\n",
       "    .dataframe tbody tr th:only-of-type {\n",
       "        vertical-align: middle;\n",
       "    }\n",
       "\n",
       "    .dataframe tbody tr th {\n",
       "        vertical-align: top;\n",
       "    }\n",
       "\n",
       "    .dataframe thead th {\n",
       "        text-align: right;\n",
       "    }\n",
       "</style>\n",
       "<table border=\"1\" class=\"dataframe\">\n",
       "  <thead>\n",
       "    <tr style=\"text-align: right;\">\n",
       "      <th></th>\n",
       "      <th></th>\n",
       "      <th></th>\n",
       "      <th>ACC</th>\n",
       "      <th>AUC</th>\n",
       "    </tr>\n",
       "    <tr>\n",
       "      <th>FEATURE</th>\n",
       "      <th>GROUP</th>\n",
       "      <th>MASK</th>\n",
       "      <th></th>\n",
       "      <th></th>\n",
       "    </tr>\n",
       "  </thead>\n",
       "  <tbody>\n",
       "    <tr>\n",
       "      <th>JointAverage</th>\n",
       "      <th>GLCM</th>\n",
       "      <th>1</th>\n",
       "      <td>0.757250</td>\n",
       "      <td>0.750654</td>\n",
       "    </tr>\n",
       "    <tr>\n",
       "      <th rowspan=\"4\" valign=\"top\">Kurtosis</th>\n",
       "      <th rowspan=\"4\" valign=\"top\">FO</th>\n",
       "      <th>3</th>\n",
       "      <td>0.745846</td>\n",
       "      <td>0.747961</td>\n",
       "    </tr>\n",
       "    <tr>\n",
       "      <th>1</th>\n",
       "      <td>0.735745</td>\n",
       "      <td>0.741052</td>\n",
       "    </tr>\n",
       "    <tr>\n",
       "      <th>2</th>\n",
       "      <td>0.735745</td>\n",
       "      <td>0.741052</td>\n",
       "    </tr>\n",
       "    <tr>\n",
       "      <th>4</th>\n",
       "      <td>0.735093</td>\n",
       "      <td>0.738157</td>\n",
       "    </tr>\n",
       "    <tr>\n",
       "      <th>Busyness</th>\n",
       "      <th>NGTDM</th>\n",
       "      <th>2</th>\n",
       "      <td>0.735745</td>\n",
       "      <td>0.736850</td>\n",
       "    </tr>\n",
       "    <tr>\n",
       "      <th>Entropy</th>\n",
       "      <th>FO</th>\n",
       "      <th>2</th>\n",
       "      <td>0.734441</td>\n",
       "      <td>0.733660</td>\n",
       "    </tr>\n",
       "    <tr>\n",
       "      <th>SumEntropy</th>\n",
       "      <th>GLCM</th>\n",
       "      <th>2</th>\n",
       "      <td>0.734441</td>\n",
       "      <td>0.733660</td>\n",
       "    </tr>\n",
       "    <tr>\n",
       "      <th>Skewness</th>\n",
       "      <th>FO</th>\n",
       "      <th>2</th>\n",
       "      <td>0.735745</td>\n",
       "      <td>0.733147</td>\n",
       "    </tr>\n",
       "    <tr>\n",
       "      <th>JointEntropy</th>\n",
       "      <th>GLCM</th>\n",
       "      <th>2</th>\n",
       "      <td>0.735093</td>\n",
       "      <td>0.732353</td>\n",
       "    </tr>\n",
       "  </tbody>\n",
       "</table>\n",
       "</div>"
      ],
      "text/plain": [
       "                              ACC       AUC\n",
       "FEATURE      GROUP MASK                    \n",
       "JointAverage GLCM  1     0.757250  0.750654\n",
       "Kurtosis     FO    3     0.745846  0.747961\n",
       "                   1     0.735745  0.741052\n",
       "                   2     0.735745  0.741052\n",
       "                   4     0.735093  0.738157\n",
       "Busyness     NGTDM 2     0.735745  0.736850\n",
       "Entropy      FO    2     0.734441  0.733660\n",
       "SumEntropy   GLCM  2     0.734441  0.733660\n",
       "Skewness     FO    2     0.735745  0.733147\n",
       "JointEntropy GLCM  2     0.735093  0.732353"
      ]
     },
     "execution_count": 26,
     "metadata": {},
     "output_type": "execute_result"
    }
   ],
   "source": [
    "#aux = kfold_df[kfold_df['MASK'] == 1]\n",
    "kfold_df.groupby(by = ['FEATURE','GROUP','MASK']).mean().nlargest(10, 'AUC')"
   ]
  },
  {
   "cell_type": "code",
   "execution_count": null,
   "metadata": {},
   "outputs": [],
   "source": []
  }
 ],
 "metadata": {
  "kernelspec": {
   "display_name": "Python 3",
   "language": "python",
   "name": "python3"
  },
  "language_info": {
   "codemirror_mode": {
    "name": "ipython",
    "version": 3
   },
   "file_extension": ".py",
   "mimetype": "text/x-python",
   "name": "python",
   "nbconvert_exporter": "python",
   "pygments_lexer": "ipython3",
   "version": "3.7.4"
  },
  "latex_envs": {
   "LaTeX_envs_menu_present": true,
   "autoclose": false,
   "autocomplete": true,
   "bibliofile": "biblio.bib",
   "cite_by": "apalike",
   "current_citInitial": 1,
   "eqLabelWithNumbers": true,
   "eqNumInitial": 1,
   "hotkeys": {
    "equation": "Ctrl-E",
    "itemize": "Ctrl-I"
   },
   "labels_anchors": false,
   "latex_user_defs": false,
   "report_style_numbering": false,
   "user_envs_cfg": false
  },
  "toc": {
   "base_numbering": 1,
   "nav_menu": {},
   "number_sections": true,
   "sideBar": true,
   "skip_h1_title": false,
   "title_cell": "Table of Contents",
   "title_sidebar": "Contents",
   "toc_cell": false,
   "toc_position": {},
   "toc_section_display": true,
   "toc_window_display": false
  }
 },
 "nbformat": 4,
 "nbformat_minor": 2
}
