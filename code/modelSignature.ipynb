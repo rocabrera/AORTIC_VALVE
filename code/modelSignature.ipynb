{
 "cells": [
  {
   "cell_type": "code",
   "execution_count": null,
   "metadata": {},
   "outputs": [],
   "source": [
    "from sklearn.model_selection import train_test_split, KFold\n",
    "from sklearn.linear_model import LogisticRegressionCV\n",
    "\n",
    "X = x_Masks_standardized[0]\n",
    "y = labelMasks[0]['SEVERE']"
   ]
  },
  {
   "cell_type": "markdown",
   "metadata": {},
   "source": [
    "# Feature Selection Explore"
   ]
  },
  {
   "cell_type": "code",
   "execution_count": null,
   "metadata": {},
   "outputs": [],
   "source": [
    "logreg = LogisticRegressionCV(\n",
    "                cv = 7,\n",
    "                scoring='accuracy',\n",
    "                solver = 'saga',\n",
    "                penalty = 'elasticnet',\n",
    "                l1_ratios = [0.1, 0.01, 0.001, 0.5, 0.7, 0.9],\n",
    "                max_iter=10000,\n",
    "                n_jobs = -1,\n",
    "                multi_class='ovr',\n",
    "                class_weight='balanced'\n",
    "                ).fit(X,y)"
   ]
  },
  {
   "cell_type": "markdown",
   "metadata": {},
   "source": [
    "# Making Signature"
   ]
  },
  {
   "cell_type": "code",
   "execution_count": null,
   "metadata": {},
   "outputs": [],
   "source": [
    "assinatura = x_Masks_standardized[0].dot(logreg.coef_.T)\n",
    "label=pd.Series(np.where(y == 0, 'blue','red'))\n",
    "assinaturaLabel = pd.concat([assinatura, label], axis = 1, names=['label'])\n",
    "assinaturaLabel.columns = ['ASSINATURA','SEVERE']\n",
    "assinaturaLabel.sort_values(by='ASSINATURA', inplace = True)\n",
    "label=assinaturaLabel['SEVERE'].to_list()"
   ]
  },
  {
   "cell_type": "code",
   "execution_count": null,
   "metadata": {},
   "outputs": [],
   "source": [
    "import matplotlib.patches as mpatches\n",
    "\n",
    "ax=assinaturaLabel['ASSINATURA'].plot(kind = 'barh', color = label, figsize = (10,10))\n",
    "plt.legend(['0','1'])\n",
    "# where some data has already been plotted to ax\n",
    "handles, labels = ax.get_legend_handles_labels()\n",
    "\n",
    "# manually define a new patch \n",
    "patch = mpatches.Patch(color='red', label='Severe')\n",
    "\n",
    "# handles is a list, so append manual patch\n",
    "handles.append(patch) \n",
    "labels = 'Mild'\n",
    "L=plt.legend(handles=handles, loc='upper left')\n",
    "L.get_texts()[0].set_text('Mild')\n",
    "plt.savefig('images/signature.png',format= 'png', bbox_inches='tight')\n",
    "plt.show()"
   ]
  }
 ],
 "metadata": {
  "kernelspec": {
   "display_name": "Python 3",
   "language": "python",
   "name": "python3"
  },
  "language_info": {
   "codemirror_mode": {
    "name": "ipython",
    "version": 3
   },
   "file_extension": ".py",
   "mimetype": "text/x-python",
   "name": "python",
   "nbconvert_exporter": "python",
   "pygments_lexer": "ipython3",
   "version": "3.7.4"
  },
  "latex_envs": {
   "LaTeX_envs_menu_present": true,
   "autoclose": false,
   "autocomplete": true,
   "bibliofile": "biblio.bib",
   "cite_by": "apalike",
   "current_citInitial": 1,
   "eqLabelWithNumbers": true,
   "eqNumInitial": 1,
   "hotkeys": {
    "equation": "Ctrl-E",
    "itemize": "Ctrl-I"
   },
   "labels_anchors": false,
   "latex_user_defs": false,
   "report_style_numbering": false,
   "user_envs_cfg": false
  },
  "toc": {
   "base_numbering": 1,
   "nav_menu": {},
   "number_sections": true,
   "sideBar": true,
   "skip_h1_title": false,
   "title_cell": "Table of Contents",
   "title_sidebar": "Contents",
   "toc_cell": false,
   "toc_position": {},
   "toc_section_display": true,
   "toc_window_display": false
  }
 },
 "nbformat": 4,
 "nbformat_minor": 2
}
