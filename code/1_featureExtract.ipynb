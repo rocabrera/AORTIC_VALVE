{
 "cells": [
  {
   "cell_type": "code",
   "execution_count": 1,
   "metadata": {
    "ExecuteTime": {
     "end_time": "2020-05-03T14:41:58.405591Z",
     "start_time": "2020-05-03T14:41:56.309233Z"
    }
   },
   "outputs": [],
   "source": [
    "import os\n",
    "import sys\n",
    "sys.path.insert(0, \"functions/\")\n",
    "import extract "
   ]
  },
  {
   "cell_type": "code",
   "execution_count": 2,
   "metadata": {
    "ExecuteTime": {
     "end_time": "2020-05-03T14:41:58.413932Z",
     "start_time": "2020-05-03T14:41:58.407691Z"
    }
   },
   "outputs": [],
   "source": [
    "from radiomics import setVerbosity\n",
    "setVerbosity(60)"
   ]
  },
  {
   "cell_type": "code",
   "execution_count": 3,
   "metadata": {
    "ExecuteTime": {
     "end_time": "2020-05-03T14:41:58.434915Z",
     "start_time": "2020-05-03T14:41:58.416925Z"
    }
   },
   "outputs": [],
   "source": [
    "import pandas as pd\n",
    "import numpy as np\n",
    "import time\n",
    "\n",
    "import SimpleITK as sitk\n",
    "from tqdm import tqdm"
   ]
  },
  {
   "cell_type": "markdown",
   "metadata": {
    "collapsed": "true"
   },
   "source": [
    "# Loading Data "
   ]
  },
  {
   "cell_type": "code",
   "execution_count": 4,
   "metadata": {
    "ExecuteTime": {
     "end_time": "2020-05-03T14:41:58.442522Z",
     "start_time": "2020-05-03T14:41:58.436843Z"
    }
   },
   "outputs": [],
   "source": [
    "os.chdir('..')\n",
    "extractionPath = os.path.join(os.getcwd(),'data','extractionData')\n",
    "imagePath = os.path.join(extractionPath, 'images_raw')\n",
    "maskPath  = os.path.join(extractionPath, 'masks')\n",
    "labelPath = os.path.join(extractionPath, 'label.csv')"
   ]
  },
  {
   "cell_type": "markdown",
   "metadata": {
    "collapsed": "true"
   },
   "source": [
    "## Mask"
   ]
  },
  {
   "cell_type": "code",
   "execution_count": 5,
   "metadata": {
    "ExecuteTime": {
     "end_time": "2020-05-03T14:41:58.460708Z",
     "start_time": "2020-05-03T14:41:58.444744Z"
    }
   },
   "outputs": [],
   "source": [
    "maskPath_lst = [os.path.join(maskPath, file) for file in os.listdir(maskPath)]\n",
    "maskPath_lst.sort()"
   ]
  },
  {
   "cell_type": "code",
   "execution_count": 6,
   "metadata": {
    "ExecuteTime": {
     "end_time": "2020-05-03T14:42:06.359826Z",
     "start_time": "2020-05-03T14:41:58.462705Z"
    }
   },
   "outputs": [],
   "source": [
    "#Getting pixel array for every mask\n",
    "maskNumpy_lst = [sitk.GetArrayFromImage(sitk.ReadImage(file)) for file in maskPath_lst]\n",
    "\n",
    "#All masks must be binary masks with only 1 and 0.\n",
    "normalize = lambda mask_object, m_max: np.where(m_max == mask_object, 1, 0)\n",
    "maskNumpy_lst = [normalize(mask_np, mask_np.max()) for mask_np in maskNumpy_lst]\n",
    "\n",
    "#Transforming to mask object\n",
    "maskObject_lst = [sitk.GetImageFromArray(mask_np) for mask_np in maskNumpy_lst]"
   ]
  },
  {
   "cell_type": "markdown",
   "metadata": {
    "collapsed": "true"
   },
   "source": [
    "## Image "
   ]
  },
  {
   "cell_type": "code",
   "execution_count": 7,
   "metadata": {
    "ExecuteTime": {
     "end_time": "2020-05-03T14:42:06.484009Z",
     "start_time": "2020-05-03T14:42:06.363460Z"
    }
   },
   "outputs": [],
   "source": [
    "imagePath_lst = []\n",
    "# r=root, d=directories, f = files\n",
    "for r, d, f in os.walk(imagePath):\n",
    "    for file in f:\n",
    "        if '.dcm' in file:\n",
    "            imagePath_lst.append(os.path.join(r, file))"
   ]
  },
  {
   "cell_type": "code",
   "execution_count": 8,
   "metadata": {
    "ExecuteTime": {
     "end_time": "2020-05-03T14:42:10.851795Z",
     "start_time": "2020-05-03T14:42:06.486662Z"
    }
   },
   "outputs": [],
   "source": [
    "imageObject_lst = [sitk.ReadImage(file) for file in imagePath_lst]\n",
    "\n",
    "#Ordering by Patient ID number in order to match with the masks\n",
    "imageObject_lst = sorted(imageObject_lst, key = lambda i: i.GetMetaData('0010|0020'))"
   ]
  },
  {
   "cell_type": "markdown",
   "metadata": {
    "collapsed": "true"
   },
   "source": [
    "## Labels"
   ]
  },
  {
   "cell_type": "code",
   "execution_count": 9,
   "metadata": {
    "ExecuteTime": {
     "end_time": "2020-05-03T14:42:10.906586Z",
     "start_time": "2020-05-03T14:42:10.851795Z"
    }
   },
   "outputs": [],
   "source": [
    "label_df = pd.read_csv(labelPath)\n",
    "#Somente para dar o Merge.\n",
    "label_df['ID'] = label_df['ID'].astype(int)\n",
    "label_df['SEVERE'] = label_df['SEVERE'].astype(int)\n",
    "label_df = label_df[['ID','SEVERE']] "
   ]
  },
  {
   "cell_type": "markdown",
   "metadata": {
    "collapsed": "true",
    "heading_collapsed": true
   },
   "source": [
    "# Extracting"
   ]
  },
  {
   "cell_type": "code",
   "execution_count": 10,
   "metadata": {
    "ExecuteTime": {
     "end_time": "2020-05-03T16:36:13.707496Z",
     "start_time": "2020-05-03T14:42:10.910539Z"
    },
    "hidden": true,
    "scrolled": true
   },
   "outputs": [
    {
     "name": "stdout",
     "output_type": "stream",
     "text": [
      "Bin: 32\n"
     ]
    },
    {
     "name": "stderr",
     "output_type": "stream",
     "text": [
      "100%|████████████████████████████████████████████████████████████████████████████████| 776/776 [01:54<00:00,  6.76it/s]\n"
     ]
    },
    {
     "name": "stdout",
     "output_type": "stream",
     "text": [
      "Time:114.786 seconds\n",
      "##############################\n",
      "Bin: 48\n"
     ]
    },
    {
     "name": "stderr",
     "output_type": "stream",
     "text": [
      "100%|████████████████████████████████████████████████████████████████████████████████| 776/776 [02:02<00:00,  6.35it/s]\n"
     ]
    },
    {
     "name": "stdout",
     "output_type": "stream",
     "text": [
      "Time:122.233 seconds\n",
      "##############################\n",
      "Bin: 64\n"
     ]
    },
    {
     "name": "stderr",
     "output_type": "stream",
     "text": [
      "100%|████████████████████████████████████████████████████████████████████████████████| 776/776 [02:27<00:00,  5.26it/s]\n"
     ]
    },
    {
     "name": "stdout",
     "output_type": "stream",
     "text": [
      "Time:147.488 seconds\n",
      "##############################\n",
      "Bin: 80\n"
     ]
    },
    {
     "name": "stderr",
     "output_type": "stream",
     "text": [
      "100%|████████████████████████████████████████████████████████████████████████████████| 776/776 [02:55<00:00,  4.41it/s]\n"
     ]
    },
    {
     "name": "stdout",
     "output_type": "stream",
     "text": [
      "Time:175.81 seconds\n",
      "##############################\n",
      "Bin: 96\n"
     ]
    },
    {
     "name": "stderr",
     "output_type": "stream",
     "text": [
      "100%|████████████████████████████████████████████████████████████████████████████████| 776/776 [03:21<00:00,  3.85it/s]\n"
     ]
    },
    {
     "name": "stdout",
     "output_type": "stream",
     "text": [
      "Time:201.569 seconds\n",
      "##############################\n",
      "Bin: 112\n"
     ]
    },
    {
     "name": "stderr",
     "output_type": "stream",
     "text": [
      "100%|████████████████████████████████████████████████████████████████████████████████| 776/776 [04:02<00:00,  3.20it/s]\n"
     ]
    },
    {
     "name": "stdout",
     "output_type": "stream",
     "text": [
      "Time:242.422 seconds\n",
      "##############################\n",
      "Bin: 128\n"
     ]
    },
    {
     "name": "stderr",
     "output_type": "stream",
     "text": [
      "100%|████████████████████████████████████████████████████████████████████████████████| 776/776 [04:44<00:00,  2.73it/s]\n"
     ]
    },
    {
     "name": "stdout",
     "output_type": "stream",
     "text": [
      "Time:284.491 seconds\n",
      "##############################\n",
      "Bin: 144\n"
     ]
    },
    {
     "name": "stderr",
     "output_type": "stream",
     "text": [
      "100%|████████████████████████████████████████████████████████████████████████████████| 776/776 [05:43<00:00,  2.26it/s]\n"
     ]
    },
    {
     "name": "stdout",
     "output_type": "stream",
     "text": [
      "Time:343.186 seconds\n",
      "##############################\n",
      "Bin: 160\n"
     ]
    },
    {
     "name": "stderr",
     "output_type": "stream",
     "text": [
      "100%|████████████████████████████████████████████████████████████████████████████████| 776/776 [07:00<00:00,  1.85it/s]\n"
     ]
    },
    {
     "name": "stdout",
     "output_type": "stream",
     "text": [
      "Time:420.461 seconds\n",
      "##############################\n",
      "Bin: 176\n"
     ]
    },
    {
     "name": "stderr",
     "output_type": "stream",
     "text": [
      "100%|████████████████████████████████████████████████████████████████████████████████| 776/776 [08:28<00:00,  1.53it/s]\n"
     ]
    },
    {
     "name": "stdout",
     "output_type": "stream",
     "text": [
      "Time:508.16 seconds\n",
      "##############################\n",
      "Bin: 192\n"
     ]
    },
    {
     "name": "stderr",
     "output_type": "stream",
     "text": [
      "100%|████████████████████████████████████████████████████████████████████████████████| 776/776 [13:15<00:00,  1.03s/it]\n"
     ]
    },
    {
     "name": "stdout",
     "output_type": "stream",
     "text": [
      "Time:795.681 seconds\n",
      "##############################\n",
      "Bin: 208\n"
     ]
    },
    {
     "name": "stderr",
     "output_type": "stream",
     "text": [
      "100%|████████████████████████████████████████████████████████████████████████████████| 776/776 [16:02<00:00,  1.24s/it]\n"
     ]
    },
    {
     "name": "stdout",
     "output_type": "stream",
     "text": [
      "Time:962.83 seconds\n",
      "##############################\n",
      "Bin: 224\n"
     ]
    },
    {
     "name": "stderr",
     "output_type": "stream",
     "text": [
      "100%|████████████████████████████████████████████████████████████████████████████████| 776/776 [11:39<00:00,  1.11it/s]\n"
     ]
    },
    {
     "name": "stdout",
     "output_type": "stream",
     "text": [
      "Time:699.4 seconds\n",
      "##############################\n",
      "Bin: 240\n"
     ]
    },
    {
     "name": "stderr",
     "output_type": "stream",
     "text": [
      "100%|████████████████████████████████████████████████████████████████████████████████| 776/776 [13:40<00:00,  1.06s/it]\n"
     ]
    },
    {
     "name": "stdout",
     "output_type": "stream",
     "text": [
      "Time:820.334 seconds\n",
      "##############################\n",
      "Bin: 256\n"
     ]
    },
    {
     "name": "stderr",
     "output_type": "stream",
     "text": [
      "100%|████████████████████████████████████████████████████████████████████████████████| 776/776 [16:28<00:00,  1.27s/it]"
     ]
    },
    {
     "name": "stdout",
     "output_type": "stream",
     "text": [
      "Time:988.859 seconds\n",
      "##############################\n"
     ]
    },
    {
     "name": "stderr",
     "output_type": "stream",
     "text": [
      "\n"
     ]
    }
   ],
   "source": [
    "dataFrame = pd.DataFrame()\n",
    "feat = [\"FO\", \"GLCM\", \"GLSZM\", \"GLRLM\", \"NGTDM\", \"GLDM\"]\n",
    "binValues_lst = np.arange(32,272,16)\n",
    "\n",
    "for binValue in binValues_lst:\n",
    "    \n",
    "    print(f'Bin: {binValue}')\n",
    "    \n",
    "    time.sleep(1)\n",
    "    start = time.time()   \n",
    "    for j in tqdm(np.arange(len(maskObject_lst))):\n",
    "        \n",
    "        case_name = str(imageObject_lst[j//8].GetMetaData('0010|0020').strip()) + '_' + str(j%8 + 1) + '_' + str(binValue)\n",
    "        \n",
    "        aux = extract.extractFeatures(imageObject_lst[j//8], \n",
    "                                      maskObject_lst[j], \n",
    "                                      case_name, \n",
    "                                      binCount= binValue, features = feat, reduce = True)\n",
    "\n",
    "        dataFrame = pd.concat([dataFrame, aux], ignore_index=True)\n",
    "        \n",
    "    end = time.time()\n",
    "    print(f'Time:{round(end - start, 3)} seconds')\n",
    "    print('#'*30)"
   ]
  },
  {
   "cell_type": "markdown",
   "metadata": {
    "collapsed": "true",
    "hidden": true
   },
   "source": [
    "## Cleaning"
   ]
  },
  {
   "cell_type": "code",
   "execution_count": 11,
   "metadata": {
    "ExecuteTime": {
     "end_time": "2020-05-03T16:36:15.890286Z",
     "start_time": "2020-05-03T16:36:13.715475Z"
    },
    "hidden": true
   },
   "outputs": [],
   "source": [
    "dataFrame[['ID', 'MASK','BIN']] = dataFrame['File Name'].apply(lambda x: pd.Series(x.split('_')))\n",
    "dataFrame['ID'] = dataFrame['ID'].astype(int)\n",
    "dataFrame['MASK'] = dataFrame['MASK'].astype(int)\n",
    "dataFrame['BIN'] = dataFrame['BIN'].astype(int)"
   ]
  },
  {
   "cell_type": "code",
   "execution_count": 12,
   "metadata": {
    "ExecuteTime": {
     "end_time": "2020-05-03T16:36:15.915750Z",
     "start_time": "2020-05-03T16:36:15.891706Z"
    },
    "hidden": true
   },
   "outputs": [],
   "source": [
    "dataFrame = dataFrame.merge(label_df, on = 'ID', how = 'inner')\n",
    "col = dataFrame.columns[-4:].tolist()+dataFrame.columns[1:-4].tolist()\n",
    "dataFrame = dataFrame[col]"
   ]
  },
  {
   "cell_type": "markdown",
   "metadata": {
    "collapsed": "true",
    "hidden": true
   },
   "source": [
    "## Saving"
   ]
  },
  {
   "cell_type": "code",
   "execution_count": 13,
   "metadata": {
    "ExecuteTime": {
     "end_time": "2020-05-03T16:36:16.163822Z",
     "start_time": "2020-05-03T16:36:15.917749Z"
    },
    "hidden": true
   },
   "outputs": [],
   "source": [
    "dataFrame.to_parquet(os.path.join(os.getcwd(), 'data', 'modelData','modelData.parquet'))"
   ]
  }
 ],
 "metadata": {
  "kernelspec": {
   "display_name": "Python 3",
   "language": "python",
   "name": "python3"
  },
  "language_info": {
   "codemirror_mode": {
    "name": "ipython",
    "version": 3
   },
   "file_extension": ".py",
   "mimetype": "text/x-python",
   "name": "python",
   "nbconvert_exporter": "python",
   "pygments_lexer": "ipython3",
   "version": "3.8.5"
  },
  "latex_envs": {
   "LaTeX_envs_menu_present": true,
   "autoclose": false,
   "autocomplete": true,
   "bibliofile": "biblio.bib",
   "cite_by": "apalike",
   "current_citInitial": 1,
   "eqLabelWithNumbers": true,
   "eqNumInitial": 1,
   "hotkeys": {
    "equation": "Ctrl-E",
    "itemize": "Ctrl-I"
   },
   "labels_anchors": false,
   "latex_user_defs": false,
   "report_style_numbering": false,
   "user_envs_cfg": false
  },
  "toc": {
   "base_numbering": 1,
   "nav_menu": {},
   "number_sections": true,
   "sideBar": true,
   "skip_h1_title": false,
   "title_cell": "Table of Contents",
   "title_sidebar": "Contents",
   "toc_cell": false,
   "toc_position": {},
   "toc_section_display": true,
   "toc_window_display": false
  }
 },
 "nbformat": 4,
 "nbformat_minor": 4
}
