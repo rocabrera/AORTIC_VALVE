{
 "cells": [
  {
   "cell_type": "code",
   "execution_count": 1,
   "metadata": {},
   "outputs": [],
   "source": [
    "import pandas as pd\n",
    "import numpy as np\n",
    "import seaborn as sns\n",
    "sns.set_theme(style=\"ticks\", palette=\"pastel\")\n",
    "import matplotlib.pyplot as plt\n",
    "import matplotlib.patches as mpatches\n",
    "plt.style.use('ggplot')\n",
    "\n",
    "\n",
    "from sklearn.preprocessing import StandardScaler\n",
    "from mlxtend.feature_selection import SequentialFeatureSelector as SFS\n",
    "from mlxtend.plotting import plot_sequential_feature_selection as plot_sfs\n",
    "from sklearn.linear_model import LogisticRegression, LogisticRegressionCV"
   ]
  },
  {
   "cell_type": "markdown",
   "metadata": {},
   "source": [
    "# Loading Data "
   ]
  },
  {
   "cell_type": "code",
   "execution_count": 2,
   "metadata": {},
   "outputs": [],
   "source": [
    "os.chdir('..')"
   ]
  },
  {
   "cell_type": "code",
   "execution_count": 3,
   "metadata": {},
   "outputs": [],
   "source": [
    "data = pd.read_parquet(os.path.join(os.getcwd(), 'data','modelData', 'modelData.parquet'))"
   ]
  },
  {
   "cell_type": "code",
   "execution_count": 4,
   "metadata": {},
   "outputs": [],
   "source": [
    "data = data.query(\"MASK == 2 & BIN == 32\")\\\n",
    "           .reset_index(drop = True)"
   ]
  },
  {
   "cell_type": "markdown",
   "metadata": {},
   "source": [
    "# Splitting data "
   ]
  },
  {
   "cell_type": "code",
   "execution_count": 5,
   "metadata": {},
   "outputs": [],
   "source": [
    "y = data[[\"SEVERE\"]]\n",
    "X = data.drop(columns = [\"MASK\", \"BIN\", \"SEVERE\", \"ID\"])\n",
    "cols = X.columns"
   ]
  },
  {
   "cell_type": "markdown",
   "metadata": {},
   "source": [
    "# Processing Data"
   ]
  },
  {
   "cell_type": "code",
   "execution_count": 6,
   "metadata": {},
   "outputs": [],
   "source": [
    "scaler = StandardScaler()\n",
    "X = scaler.fit_transform(X)\n",
    "X = pd.DataFrame(X, columns  = cols)"
   ]
  },
  {
   "cell_type": "markdown",
   "metadata": {},
   "source": [
    "# Settings Regression"
   ]
  },
  {
   "cell_type": "code",
   "execution_count": 7,
   "metadata": {},
   "outputs": [],
   "source": [
    "logreg = LogisticRegression(penalty = \"l1\",\n",
    "                            C = 0.3, # Smaller values specify stronger regularization.\n",
    "                            solver = \"saga\",\n",
    "                            max_iter = 10000,\n",
    "                            n_jobs = 1)\n",
    "sfs  = SFS(logreg, \n",
    "           k_features=5, \n",
    "           forward=True, \n",
    "           floating=False, \n",
    "           verbose=0,\n",
    "           scoring='roc_auc',\n",
    "           cv=4,\n",
    "           n_jobs=-1)\n"
   ]
  },
  {
   "cell_type": "markdown",
   "metadata": {},
   "source": [
    "# Feature Selection "
   ]
  },
  {
   "cell_type": "code",
   "execution_count": 8,
   "metadata": {},
   "outputs": [],
   "source": [
    "sfs = sfs.fit(X, y.values.squeeze())"
   ]
  },
  {
   "cell_type": "code",
   "execution_count": 9,
   "metadata": {},
   "outputs": [],
   "source": [
    "result = sfs.get_metric_dict(confidence_interval=0.95)\n",
    "aux=pd.DataFrame.from_dict(result).T"
   ]
  },
  {
   "cell_type": "markdown",
   "metadata": {},
   "source": [
    "# Final Model"
   ]
  },
  {
   "cell_type": "code",
   "execution_count": 10,
   "metadata": {},
   "outputs": [],
   "source": [
    "X_feat = X.filter(['Energy_FO',\n",
    "                   'Coarseness_NGTDM'])"
   ]
  },
  {
   "cell_type": "code",
   "execution_count": 11,
   "metadata": {},
   "outputs": [],
   "source": [
    "logreg = LogisticRegressionCV(cv = 4,\n",
    "                              scoring='roc_auc',\n",
    "                              solver = 'saga',\n",
    "                              penalty = 'l1',\n",
    "                              Cs = [0.3],\n",
    "                              max_iter= 10000,\n",
    "                              n_jobs = -1,\n",
    "                              ).fit(X_feat, y[\"SEVERE\"].values)"
   ]
  },
  {
   "cell_type": "code",
   "execution_count": 22,
   "metadata": {},
   "outputs": [
    {
     "data": {
      "text/plain": [
       "(2, 1)"
      ]
     },
     "execution_count": 22,
     "metadata": {},
     "output_type": "execute_result"
    }
   ],
   "source": [
    "logreg.coef_.T.shape"
   ]
  },
  {
   "cell_type": "code",
   "execution_count": 20,
   "metadata": {},
   "outputs": [
    {
     "data": {
      "text/plain": [
       "array([[-1.75235995],\n",
       "       [-0.81006149],\n",
       "       [-0.92773124],\n",
       "       [-1.63751117],\n",
       "       [-1.6680954 ],\n",
       "       [-0.35664413],\n",
       "       [-1.92282308],\n",
       "       [ 1.90304929],\n",
       "       [-1.76443335],\n",
       "       [ 1.25469888],\n",
       "       [-1.75851192],\n",
       "       [ 0.82221312],\n",
       "       [-1.29977526],\n",
       "       [-1.47096236],\n",
       "       [-1.39259573],\n",
       "       [-0.73956153],\n",
       "       [-1.71208396],\n",
       "       [-0.15470521],\n",
       "       [-0.90016083],\n",
       "       [-0.06704493],\n",
       "       [-1.38986979],\n",
       "       [-1.02153231],\n",
       "       [ 2.00556209],\n",
       "       [-0.73932127],\n",
       "       [-0.11298945],\n",
       "       [-0.50476442],\n",
       "       [ 1.33989664],\n",
       "       [-1.78573516],\n",
       "       [-0.86634207],\n",
       "       [ 1.71460432],\n",
       "       [ 0.96744486],\n",
       "       [ 1.86405832],\n",
       "       [-0.07006341],\n",
       "       [ 1.38474273],\n",
       "       [-1.69274797],\n",
       "       [-1.73135069],\n",
       "       [ 1.78885624],\n",
       "       [-1.13711341],\n",
       "       [ 2.58143448],\n",
       "       [-0.42755081],\n",
       "       [-0.69911912],\n",
       "       [-0.5431046 ],\n",
       "       [ 1.56988154],\n",
       "       [ 0.14631067],\n",
       "       [ 1.44631833],\n",
       "       [-0.40309557],\n",
       "       [ 1.33165132],\n",
       "       [ 1.44270474],\n",
       "       [ 2.82905436],\n",
       "       [-1.13114949],\n",
       "       [-1.61323253],\n",
       "       [-1.57241616],\n",
       "       [-1.14852944],\n",
       "       [ 0.40328966],\n",
       "       [-1.71162516],\n",
       "       [ 0.14719949],\n",
       "       [-0.94413869],\n",
       "       [-1.43720488],\n",
       "       [-1.21561301],\n",
       "       [ 1.02657804],\n",
       "       [ 0.93968017],\n",
       "       [ 1.06143893],\n",
       "       [ 0.74782008],\n",
       "       [-1.01719749],\n",
       "       [ 0.61329135],\n",
       "       [ 1.23425499],\n",
       "       [-1.02201969],\n",
       "       [-0.40935844],\n",
       "       [-1.32164761],\n",
       "       [ 0.95163965],\n",
       "       [ 1.18128567],\n",
       "       [-1.40196026],\n",
       "       [ 0.38674406],\n",
       "       [-1.07691957],\n",
       "       [ 0.23037407],\n",
       "       [ 0.76853583],\n",
       "       [ 0.13682653],\n",
       "       [ 3.59530721],\n",
       "       [ 1.89893417],\n",
       "       [-0.36865404],\n",
       "       [ 1.52675718],\n",
       "       [-1.74972167],\n",
       "       [ 0.38683112],\n",
       "       [ 5.75908042],\n",
       "       [ 3.26940358],\n",
       "       [-0.3000955 ],\n",
       "       [-0.61694262],\n",
       "       [-0.13448456],\n",
       "       [-0.76211509],\n",
       "       [ 2.24835573],\n",
       "       [-0.28763025],\n",
       "       [ 0.02424362],\n",
       "       [ 0.89445692],\n",
       "       [-0.3822692 ],\n",
       "       [-0.74012345]])"
      ]
     },
     "execution_count": 20,
     "metadata": {},
     "output_type": "execute_result"
    }
   ],
   "source": [
    "np.dot(X_feat, logreg.coef_.T)"
   ]
  },
  {
   "cell_type": "code",
   "execution_count": 14,
   "metadata": {},
   "outputs": [],
   "source": [
    "assinatura = pd.Series((X_feat.dot(logreg.coef_.T)).squeeze())\n",
    "label=pd.Series(np.where(y[\"SEVERE\"].values == 0, 'blue','red'))\n",
    "assinaturaLabel = pd.concat([assinatura, label], axis = 1, names=['label'])\n",
    "assinaturaLabel.columns = ['ASSINATURA','SEVERE']\n",
    "assinaturaLabel.sort_values(by='ASSINATURA', inplace = True)\n",
    "label=assinaturaLabel['SEVERE'].to_list()"
   ]
  },
  {
   "cell_type": "code",
   "execution_count": 15,
   "metadata": {},
   "outputs": [
    {
     "data": {
      "image/png": "[encoded data removed]",
      "text/plain": [
       "<Figure size 1440x720 with 1 Axes>"
      ]
     },
     "metadata": {},
     "output_type": "display_data"
    }
   ],
   "source": [
    "ax=assinaturaLabel['ASSINATURA'].plot(kind = 'bar', color = label, figsize = (20,10))\n",
    "plt.ylabel(\"Radiomics Score\",fontsize = 15)\n",
    "plt.xlabel(\"Patient ID\",fontsize = 15)\n",
    "plt.legend(['0','1'])\n",
    "# where some data has already been plotted to ax\n",
    "handles, labels = ax.get_legend_handles_labels()\n",
    "\n",
    "# manually define a new patch \n",
    "patch = mpatches.Patch(color='red', label='Severe')\n",
    "\n",
    "# handles is a list, so append manual patch\n",
    "handles.append(patch) \n",
    "labels = 'Mild'\n",
    "L=plt.legend(handles=handles, loc='upper left',fontsize = 15)\n",
    "L.get_texts()[0].set_text('Mild')\n",
    "plt.tight_layout()\n",
    "plt.savefig(os.path.join(\"figures\", \"model\", \"signature.png\"),format= 'png', bbox_inches='tight')\n",
    "plt.show()"
   ]
  },
  {
   "cell_type": "code",
   "execution_count": 16,
   "metadata": {},
   "outputs": [
    {
     "data": {
      "text/plain": [
       "0.8615384615384616"
      ]
     },
     "execution_count": 16,
     "metadata": {},
     "output_type": "execute_result"
    }
   ],
   "source": [
    "logreg.scores_[1].mean(axis = 1).mean()"
   ]
  },
  {
   "cell_type": "code",
   "execution_count": 17,
   "metadata": {},
   "outputs": [
    {
     "data": {
      "text/plain": [
       "0.03427286924431567"
      ]
     },
     "execution_count": 17,
     "metadata": {},
     "output_type": "execute_result"
    }
   ],
   "source": [
    "logreg.scores_[1].mean(axis = 1).std()"
   ]
  }
 ],
 "metadata": {
  "kernelspec": {
   "display_name": "venv_tg",
   "language": "python",
   "name": "venv_tg"
  },
  "language_info": {
   "codemirror_mode": {
    "name": "ipython",
    "version": 3
   },
   "file_extension": ".py",
   "mimetype": "text/x-python",
   "name": "python",
   "nbconvert_exporter": "python",
   "pygments_lexer": "ipython3",
   "version": "3.8.5"
  }
 },
 "nbformat": 4,
 "nbformat_minor": 4
}
